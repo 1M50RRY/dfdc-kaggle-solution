{
 "cells": [
  {
   "cell_type": "code",
   "execution_count": 1,
   "metadata": {},
   "outputs": [
    {
     "name": "stderr",
     "output_type": "stream",
     "text": [
      "d:\\users\\user\\appdata\\local\\programs\\python\\python36\\lib\\site-packages\\numpy\\_distributor_init.py:32: UserWarning: loaded more than 1 DLL from .libs:\n",
      "d:\\users\\user\\appdata\\local\\programs\\python\\python36\\lib\\site-packages\\numpy\\.libs\\libopenblas.IPBC74C7KURV7CB2PKT5Z5FNR3SIBV4J.gfortran-win_amd64.dll\n",
      "d:\\users\\user\\appdata\\local\\programs\\python\\python36\\lib\\site-packages\\numpy\\.libs\\libopenblas.PYQHXLVVQ7VESDPUVUADXEVJOBGHJPAY.gfortran-win_amd64.dll\n",
      "  stacklevel=1)\n"
     ]
    }
   ],
   "source": [
    "import random\n",
    "import numpy as np\n",
    "import pandas as pd\n",
    "import json\n",
    "import cv2\n",
    "import os\n",
    "from functools import partial\n",
    "from dataclasses import dataclass\n",
    "from collections import OrderedDict\n",
    "import torchvision\n",
    "from IPython.display import clear_output\n",
    "import matplotlib.pyplot as plt\n",
    "import tqdm\n",
    "\n",
    "random.seed(0)\n",
    "np.random.seed(0)"
   ]
  },
  {
   "cell_type": "code",
   "execution_count": 2,
   "metadata": {},
   "outputs": [],
   "source": [
    "import torch\n",
    "from pipeline.metrics import accuracy_b, log_loss_b\n",
    "from pipeline.image_extracting import extract_faces, FastMTCNN"
   ]
  },
  {
   "cell_type": "code",
   "execution_count": 45,
   "metadata": {
    "scrolled": true
   },
   "outputs": [
    {
     "data": {
      "text/plain": [
       "(tensor(0.6826), 0.6931)"
      ]
     },
     "execution_count": 45,
     "metadata": {},
     "output_type": "execute_result"
    }
   ],
   "source": [
    "y0 = torch.tensor([0]*2000 + [1]*2000)\n",
    "y = torch.FloatTensor([0.4]*3695 + [0.6]*305)\n",
    "log_loss_b(y, y0), 0.6931"
   ]
  },
  {
   "cell_type": "code",
   "execution_count": 2,
   "metadata": {},
   "outputs": [],
   "source": [
    "y_train = pd.read_csv('data\\\\frames\\\\metadata.csv')"
   ]
  },
  {
   "cell_type": "code",
   "execution_count": 3,
   "metadata": {
    "scrolled": true
   },
   "outputs": [
    {
     "data": {
      "text/html": [
       "<div>\n",
       "<style scoped>\n",
       "    .dataframe tbody tr th:only-of-type {\n",
       "        vertical-align: middle;\n",
       "    }\n",
       "\n",
       "    .dataframe tbody tr th {\n",
       "        vertical-align: top;\n",
       "    }\n",
       "\n",
       "    .dataframe thead th {\n",
       "        text-align: right;\n",
       "    }\n",
       "</style>\n",
       "<table border=\"1\" class=\"dataframe\">\n",
       "  <thead>\n",
       "    <tr style=\"text-align: right;\">\n",
       "      <th></th>\n",
       "      <th>name</th>\n",
       "      <th>label</th>\n",
       "    </tr>\n",
       "  </thead>\n",
       "  <tbody>\n",
       "    <tr>\n",
       "      <th>0</th>\n",
       "      <td>owxbbpjpch</td>\n",
       "      <td>1</td>\n",
       "    </tr>\n",
       "    <tr>\n",
       "      <th>1</th>\n",
       "      <td>vpmyeepbep</td>\n",
       "      <td>0</td>\n",
       "    </tr>\n",
       "    <tr>\n",
       "      <th>2</th>\n",
       "      <td>fzvpbrzssi</td>\n",
       "      <td>0</td>\n",
       "    </tr>\n",
       "    <tr>\n",
       "      <th>3</th>\n",
       "      <td>htorvhbcae</td>\n",
       "      <td>1</td>\n",
       "    </tr>\n",
       "    <tr>\n",
       "      <th>4</th>\n",
       "      <td>fckxaqjbxk</td>\n",
       "      <td>1</td>\n",
       "    </tr>\n",
       "    <tr>\n",
       "      <th>5</th>\n",
       "      <td>sphirandia</td>\n",
       "      <td>1</td>\n",
       "    </tr>\n",
       "    <tr>\n",
       "      <th>6</th>\n",
       "      <td>vsmadeuczx</td>\n",
       "      <td>1</td>\n",
       "    </tr>\n",
       "    <tr>\n",
       "      <th>7</th>\n",
       "      <td>ohaqlzfnuv</td>\n",
       "      <td>1</td>\n",
       "    </tr>\n",
       "    <tr>\n",
       "      <th>8</th>\n",
       "      <td>komngcqveq</td>\n",
       "      <td>1</td>\n",
       "    </tr>\n",
       "    <tr>\n",
       "      <th>9</th>\n",
       "      <td>iafvzgpbix</td>\n",
       "      <td>1</td>\n",
       "    </tr>\n",
       "    <tr>\n",
       "      <th>10</th>\n",
       "      <td>uaukglhmje</td>\n",
       "      <td>1</td>\n",
       "    </tr>\n",
       "    <tr>\n",
       "      <th>11</th>\n",
       "      <td>syxobtuucp</td>\n",
       "      <td>0</td>\n",
       "    </tr>\n",
       "    <tr>\n",
       "      <th>12</th>\n",
       "      <td>dtjcyzgdts</td>\n",
       "      <td>1</td>\n",
       "    </tr>\n",
       "    <tr>\n",
       "      <th>13</th>\n",
       "      <td>viuioldtnu</td>\n",
       "      <td>1</td>\n",
       "    </tr>\n",
       "    <tr>\n",
       "      <th>14</th>\n",
       "      <td>wnaweyzlqh</td>\n",
       "      <td>1</td>\n",
       "    </tr>\n",
       "    <tr>\n",
       "      <th>15</th>\n",
       "      <td>ejhhdlzpjg</td>\n",
       "      <td>1</td>\n",
       "    </tr>\n",
       "    <tr>\n",
       "      <th>16</th>\n",
       "      <td>sxyrkshzsg</td>\n",
       "      <td>1</td>\n",
       "    </tr>\n",
       "    <tr>\n",
       "      <th>17</th>\n",
       "      <td>uvfkppqsjy</td>\n",
       "      <td>1</td>\n",
       "    </tr>\n",
       "    <tr>\n",
       "      <th>18</th>\n",
       "      <td>kedahvzait</td>\n",
       "      <td>1</td>\n",
       "    </tr>\n",
       "    <tr>\n",
       "      <th>19</th>\n",
       "      <td>idczhqbbqz</td>\n",
       "      <td>1</td>\n",
       "    </tr>\n",
       "    <tr>\n",
       "      <th>20</th>\n",
       "      <td>clzkcmoyhb</td>\n",
       "      <td>1</td>\n",
       "    </tr>\n",
       "    <tr>\n",
       "      <th>21</th>\n",
       "      <td>vpjfmetsvn</td>\n",
       "      <td>1</td>\n",
       "    </tr>\n",
       "    <tr>\n",
       "      <th>22</th>\n",
       "      <td>muksyyltmg</td>\n",
       "      <td>1</td>\n",
       "    </tr>\n",
       "    <tr>\n",
       "      <th>23</th>\n",
       "      <td>ztwlbdwyni</td>\n",
       "      <td>1</td>\n",
       "    </tr>\n",
       "    <tr>\n",
       "      <th>24</th>\n",
       "      <td>jaurxwocly</td>\n",
       "      <td>1</td>\n",
       "    </tr>\n",
       "    <tr>\n",
       "      <th>25</th>\n",
       "      <td>jkxjvuioek</td>\n",
       "      <td>1</td>\n",
       "    </tr>\n",
       "    <tr>\n",
       "      <th>26</th>\n",
       "      <td>dhjnjkzuhq</td>\n",
       "      <td>0</td>\n",
       "    </tr>\n",
       "    <tr>\n",
       "      <th>27</th>\n",
       "      <td>xcruhaccxc</td>\n",
       "      <td>0</td>\n",
       "    </tr>\n",
       "    <tr>\n",
       "      <th>28</th>\n",
       "      <td>rfpjsloxzg</td>\n",
       "      <td>1</td>\n",
       "    </tr>\n",
       "    <tr>\n",
       "      <th>29</th>\n",
       "      <td>kmcdjxmnoa</td>\n",
       "      <td>1</td>\n",
       "    </tr>\n",
       "    <tr>\n",
       "      <th>...</th>\n",
       "      <td>...</td>\n",
       "      <td>...</td>\n",
       "    </tr>\n",
       "    <tr>\n",
       "      <th>113184</th>\n",
       "      <td>bygbpfunju</td>\n",
       "      <td>0</td>\n",
       "    </tr>\n",
       "    <tr>\n",
       "      <th>113185</th>\n",
       "      <td>ioxvbxicwx</td>\n",
       "      <td>1</td>\n",
       "    </tr>\n",
       "    <tr>\n",
       "      <th>113186</th>\n",
       "      <td>fomgviyohz</td>\n",
       "      <td>1</td>\n",
       "    </tr>\n",
       "    <tr>\n",
       "      <th>113187</th>\n",
       "      <td>mxsdxajbkn</td>\n",
       "      <td>1</td>\n",
       "    </tr>\n",
       "    <tr>\n",
       "      <th>113188</th>\n",
       "      <td>mcesaopunn</td>\n",
       "      <td>1</td>\n",
       "    </tr>\n",
       "    <tr>\n",
       "      <th>113189</th>\n",
       "      <td>qwqiqjkvvf</td>\n",
       "      <td>1</td>\n",
       "    </tr>\n",
       "    <tr>\n",
       "      <th>113190</th>\n",
       "      <td>dymuwnxxuc</td>\n",
       "      <td>1</td>\n",
       "    </tr>\n",
       "    <tr>\n",
       "      <th>113191</th>\n",
       "      <td>rdqapigsyb</td>\n",
       "      <td>1</td>\n",
       "    </tr>\n",
       "    <tr>\n",
       "      <th>113192</th>\n",
       "      <td>hvuxhtdbqf</td>\n",
       "      <td>1</td>\n",
       "    </tr>\n",
       "    <tr>\n",
       "      <th>113193</th>\n",
       "      <td>powrtawkpq</td>\n",
       "      <td>1</td>\n",
       "    </tr>\n",
       "    <tr>\n",
       "      <th>113194</th>\n",
       "      <td>yhkvtidagk</td>\n",
       "      <td>1</td>\n",
       "    </tr>\n",
       "    <tr>\n",
       "      <th>113195</th>\n",
       "      <td>qseoarxfgo</td>\n",
       "      <td>1</td>\n",
       "    </tr>\n",
       "    <tr>\n",
       "      <th>113196</th>\n",
       "      <td>drwzbuwdwo</td>\n",
       "      <td>1</td>\n",
       "    </tr>\n",
       "    <tr>\n",
       "      <th>113197</th>\n",
       "      <td>wmybdclyvw</td>\n",
       "      <td>0</td>\n",
       "    </tr>\n",
       "    <tr>\n",
       "      <th>113198</th>\n",
       "      <td>clssjlgtkp</td>\n",
       "      <td>1</td>\n",
       "    </tr>\n",
       "    <tr>\n",
       "      <th>113199</th>\n",
       "      <td>mnraxduffa</td>\n",
       "      <td>1</td>\n",
       "    </tr>\n",
       "    <tr>\n",
       "      <th>113200</th>\n",
       "      <td>rpdknjdhxa</td>\n",
       "      <td>1</td>\n",
       "    </tr>\n",
       "    <tr>\n",
       "      <th>113201</th>\n",
       "      <td>cpjiflbqbo</td>\n",
       "      <td>0</td>\n",
       "    </tr>\n",
       "    <tr>\n",
       "      <th>113202</th>\n",
       "      <td>kdbkemnotp</td>\n",
       "      <td>0</td>\n",
       "    </tr>\n",
       "    <tr>\n",
       "      <th>113203</th>\n",
       "      <td>lhhzkikwok</td>\n",
       "      <td>1</td>\n",
       "    </tr>\n",
       "    <tr>\n",
       "      <th>113204</th>\n",
       "      <td>xxctscldjf</td>\n",
       "      <td>1</td>\n",
       "    </tr>\n",
       "    <tr>\n",
       "      <th>113205</th>\n",
       "      <td>cbqdpfnktj</td>\n",
       "      <td>0</td>\n",
       "    </tr>\n",
       "    <tr>\n",
       "      <th>113206</th>\n",
       "      <td>nzsegwqmiz</td>\n",
       "      <td>1</td>\n",
       "    </tr>\n",
       "    <tr>\n",
       "      <th>113207</th>\n",
       "      <td>xnanaqvsbx</td>\n",
       "      <td>1</td>\n",
       "    </tr>\n",
       "    <tr>\n",
       "      <th>113208</th>\n",
       "      <td>oslpfwdplo</td>\n",
       "      <td>1</td>\n",
       "    </tr>\n",
       "    <tr>\n",
       "      <th>113209</th>\n",
       "      <td>dtzcznnnri</td>\n",
       "      <td>1</td>\n",
       "    </tr>\n",
       "    <tr>\n",
       "      <th>113210</th>\n",
       "      <td>ndpxrbzfmy</td>\n",
       "      <td>1</td>\n",
       "    </tr>\n",
       "    <tr>\n",
       "      <th>113211</th>\n",
       "      <td>atpavsukgc</td>\n",
       "      <td>1</td>\n",
       "    </tr>\n",
       "    <tr>\n",
       "      <th>113212</th>\n",
       "      <td>hlrlbzwfxa</td>\n",
       "      <td>1</td>\n",
       "    </tr>\n",
       "    <tr>\n",
       "      <th>113213</th>\n",
       "      <td>gavqzzofqv</td>\n",
       "      <td>1</td>\n",
       "    </tr>\n",
       "  </tbody>\n",
       "</table>\n",
       "<p>113214 rows × 2 columns</p>\n",
       "</div>"
      ],
      "text/plain": [
       "              name  label\n",
       "0       owxbbpjpch      1\n",
       "1       vpmyeepbep      0\n",
       "2       fzvpbrzssi      0\n",
       "3       htorvhbcae      1\n",
       "4       fckxaqjbxk      1\n",
       "5       sphirandia      1\n",
       "6       vsmadeuczx      1\n",
       "7       ohaqlzfnuv      1\n",
       "8       komngcqveq      1\n",
       "9       iafvzgpbix      1\n",
       "10      uaukglhmje      1\n",
       "11      syxobtuucp      0\n",
       "12      dtjcyzgdts      1\n",
       "13      viuioldtnu      1\n",
       "14      wnaweyzlqh      1\n",
       "15      ejhhdlzpjg      1\n",
       "16      sxyrkshzsg      1\n",
       "17      uvfkppqsjy      1\n",
       "18      kedahvzait      1\n",
       "19      idczhqbbqz      1\n",
       "20      clzkcmoyhb      1\n",
       "21      vpjfmetsvn      1\n",
       "22      muksyyltmg      1\n",
       "23      ztwlbdwyni      1\n",
       "24      jaurxwocly      1\n",
       "25      jkxjvuioek      1\n",
       "26      dhjnjkzuhq      0\n",
       "27      xcruhaccxc      0\n",
       "28      rfpjsloxzg      1\n",
       "29      kmcdjxmnoa      1\n",
       "...            ...    ...\n",
       "113184  bygbpfunju      0\n",
       "113185  ioxvbxicwx      1\n",
       "113186  fomgviyohz      1\n",
       "113187  mxsdxajbkn      1\n",
       "113188  mcesaopunn      1\n",
       "113189  qwqiqjkvvf      1\n",
       "113190  dymuwnxxuc      1\n",
       "113191  rdqapigsyb      1\n",
       "113192  hvuxhtdbqf      1\n",
       "113193  powrtawkpq      1\n",
       "113194  yhkvtidagk      1\n",
       "113195  qseoarxfgo      1\n",
       "113196  drwzbuwdwo      1\n",
       "113197  wmybdclyvw      0\n",
       "113198  clssjlgtkp      1\n",
       "113199  mnraxduffa      1\n",
       "113200  rpdknjdhxa      1\n",
       "113201  cpjiflbqbo      0\n",
       "113202  kdbkemnotp      0\n",
       "113203  lhhzkikwok      1\n",
       "113204  xxctscldjf      1\n",
       "113205  cbqdpfnktj      0\n",
       "113206  nzsegwqmiz      1\n",
       "113207  xnanaqvsbx      1\n",
       "113208  oslpfwdplo      1\n",
       "113209  dtzcznnnri      1\n",
       "113210  ndpxrbzfmy      1\n",
       "113211  atpavsukgc      1\n",
       "113212  hlrlbzwfxa      1\n",
       "113213  gavqzzofqv      1\n",
       "\n",
       "[113214 rows x 2 columns]"
      ]
     },
     "execution_count": 3,
     "metadata": {},
     "output_type": "execute_result"
    }
   ],
   "source": [
    "y_train"
   ]
  },
  {
   "cell_type": "code",
   "execution_count": 4,
   "metadata": {
    "scrolled": true
   },
   "outputs": [
    {
     "name": "stderr",
     "output_type": "stream",
     "text": [
      "d:\\users\\user\\appdata\\local\\programs\\python\\python36\\lib\\site-packages\\ipykernel_launcher.py:3: TqdmDeprecationWarning: This function will be removed in tqdm==5.0.0\n",
      "Please use `tqdm.notebook.tqdm` instead of `tqdm.tqdm_notebook`\n",
      "  This is separate from the ipykernel package so we can avoid doing imports until\n"
     ]
    },
    {
     "data": {
      "application/vnd.jupyter.widget-view+json": {
       "model_id": "b59273fb928f4a68a5d2b7e8fdc13d58",
       "version_major": 2,
       "version_minor": 0
      },
      "text/plain": [
       "HBox(children=(FloatProgress(value=0.0, max=1.0), HTML(value='')))"
      ]
     },
     "metadata": {},
     "output_type": "display_data"
    },
    {
     "name": "stderr",
     "output_type": "stream",
     "text": [
      "d:\\users\\user\\appdata\\local\\programs\\python\\python36\\lib\\site-packages\\ipykernel_launcher.py:6: TqdmDeprecationWarning: This function will be removed in tqdm==5.0.0\n",
      "Please use `tqdm.notebook.tqdm` instead of `tqdm.tqdm_notebook`\n",
      "  \n"
     ]
    },
    {
     "data": {
      "application/vnd.jupyter.widget-view+json": {
       "model_id": "37dd8a84c2854587982852175c99c816",
       "version_major": 2,
       "version_minor": 0
      },
      "text/plain": [
       "HBox(children=(FloatProgress(value=0.0, max=9220.0), HTML(value='')))"
      ]
     },
     "metadata": {},
     "output_type": "display_data"
    },
    {
     "name": "stdout",
     "output_type": "stream",
     "text": [
      "STOP\n",
      "STOP\n",
      "STOP\n",
      "STOP\n",
      "STOP\n",
      "STOP\n",
      "STOP\n",
      "STOP\n",
      "STOP\n",
      "STOP\n",
      "STOP\n",
      "STOP\n",
      "STOP\n",
      "STOP\n",
      "STOP\n",
      "STOP\n",
      "STOP\n",
      "STOP\n",
      "STOP\n",
      "STOP\n",
      "STOP\n",
      "STOP\n",
      "STOP\n",
      "STOP\n",
      "STOP\n",
      "STOP\n",
      "STOP\n",
      "STOP\n",
      "STOP\n",
      "STOP\n",
      "STOP\n",
      "STOP\n",
      "STOP\n",
      "STOP\n",
      "STOP\n",
      "STOP\n",
      "STOP\n",
      "STOP\n",
      "STOP\n",
      "STOP\n",
      "STOP\n",
      "STOP\n",
      "STOP\n",
      "STOP\n",
      "STOP\n",
      "STOP\n",
      "STOP\n",
      "STOP\n",
      "STOP\n",
      "STOP\n",
      "STOP\n",
      "STOP\n",
      "STOP\n",
      "STOP\n",
      "STOP\n",
      "STOP\n",
      "STOP\n",
      "STOP\n",
      "STOP\n",
      "STOP\n",
      "STOP\n",
      "STOP\n",
      "STOP\n",
      "STOP\n",
      "STOP\n",
      "STOP\n",
      "STOP\n",
      "STOP\n",
      "STOP\n",
      "STOP\n",
      "STOP\n",
      "STOP\n",
      "STOP\n",
      "STOP\n",
      "STOP\n",
      "STOP\n",
      "STOP\n",
      "STOP\n",
      "STOP\n",
      "STOP\n",
      "STOP\n",
      "STOP\n",
      "STOP\n",
      "STOP\n",
      "STOP\n",
      "STOP\n",
      "STOP\n",
      "STOP\n",
      "STOP\n",
      "STOP\n",
      "STOP\n",
      "STOP\n",
      "STOP\n",
      "STOP\n",
      "STOP\n",
      "STOP\n",
      "STOP\n",
      "STOP\n",
      "STOP\n",
      "STOP\n",
      "STOP\n",
      "STOP\n",
      "STOP\n",
      "STOP\n",
      "STOP\n",
      "STOP\n",
      "STOP\n",
      "STOP\n",
      "STOP\n",
      "STOP\n",
      "STOP\n",
      "STOP\n",
      "STOP\n",
      "STOP\n",
      "STOP\n",
      "STOP\n",
      "STOP\n",
      "STOP\n",
      "STOP\n",
      "STOP\n",
      "STOP\n",
      "STOP\n",
      "STOP\n",
      "STOP\n",
      "STOP\n",
      "STOP\n",
      "STOP\n",
      "STOP\n",
      "STOP\n",
      "STOP\n",
      "STOP\n",
      "STOP\n",
      "STOP\n",
      "STOP\n",
      "STOP\n",
      "STOP\n",
      "STOP\n",
      "STOP\n",
      "STOP\n",
      "STOP\n",
      "STOP\n",
      "STOP\n",
      "STOP\n",
      "STOP\n",
      "STOP\n",
      "STOP\n",
      "STOP\n",
      "STOP\n",
      "STOP\n",
      "STOP\n",
      "STOP\n",
      "STOP\n",
      "STOP\n",
      "STOP\n",
      "STOP\n",
      "STOP\n",
      "STOP\n",
      "STOP\n",
      "STOP\n",
      "STOP\n",
      "STOP\n",
      "STOP\n",
      "STOP\n",
      "STOP\n",
      "STOP\n",
      "STOP\n",
      "STOP\n",
      "STOP\n",
      "STOP\n",
      "STOP\n",
      "STOP\n",
      "STOP\n",
      "STOP\n",
      "STOP\n",
      "STOP\n",
      "STOP\n",
      "STOP\n",
      "STOP\n",
      "STOP\n",
      "STOP\n",
      "STOP\n",
      "STOP\n",
      "STOP\n",
      "STOP\n",
      "STOP\n",
      "STOP\n",
      "STOP\n",
      "STOP\n",
      "STOP\n",
      "STOP\n",
      "STOP\n",
      "STOP\n",
      "STOP\n",
      "STOP\n",
      "STOP\n",
      "STOP\n",
      "STOP\n",
      "STOP\n",
      "STOP\n",
      "STOP\n",
      "STOP\n",
      "STOP\n",
      "STOP\n",
      "STOP\n",
      "STOP\n",
      "STOP\n",
      "STOP\n",
      "STOP\n",
      "STOP\n",
      "STOP\n",
      "STOP\n",
      "STOP\n",
      "STOP\n",
      "STOP\n",
      "STOP\n",
      "STOP\n",
      "STOP\n",
      "STOP\n",
      "STOP\n",
      "STOP\n",
      "STOP\n",
      "STOP\n",
      "STOP\n",
      "STOP\n",
      "STOP\n",
      "STOP\n",
      "STOP\n",
      "STOP\n",
      "STOP\n",
      "STOP\n",
      "STOP\n",
      "STOP\n",
      "STOP\n",
      "STOP\n",
      "STOP\n",
      "STOP\n",
      "STOP\n",
      "STOP\n",
      "STOP\n",
      "STOP\n",
      "STOP\n",
      "STOP\n",
      "STOP\n",
      "STOP\n",
      "STOP\n",
      "STOP\n",
      "STOP\n",
      "STOP\n",
      "STOP\n",
      "STOP\n",
      "STOP\n",
      "STOP\n",
      "STOP\n",
      "STOP\n",
      "STOP\n",
      "STOP\n",
      "STOP\n",
      "STOP\n",
      "STOP\n",
      "STOP\n",
      "STOP\n",
      "STOP\n",
      "STOP\n",
      "STOP\n",
      "STOP\n",
      "STOP\n",
      "STOP\n",
      "STOP\n",
      "STOP\n",
      "STOP\n",
      "STOP\n",
      "STOP\n",
      "STOP\n",
      "STOP\n",
      "STOP\n",
      "STOP\n",
      "STOP\n",
      "STOP\n",
      "STOP\n",
      "STOP\n",
      "STOP\n",
      "STOP\n",
      "STOP\n",
      "STOP\n",
      "STOP\n",
      "STOP\n",
      "STOP\n",
      "STOP\n",
      "STOP\n",
      "STOP\n",
      "STOP\n",
      "STOP\n",
      "STOP\n",
      "STOP\n",
      "STOP\n",
      "STOP\n",
      "STOP\n",
      "STOP\n",
      "STOP\n",
      "STOP\n",
      "STOP\n",
      "STOP\n",
      "STOP\n",
      "STOP\n",
      "STOP\n",
      "STOP\n",
      "STOP\n",
      "STOP\n",
      "STOP\n",
      "STOP\n",
      "STOP\n",
      "STOP\n",
      "STOP\n",
      "STOP\n",
      "STOP\n",
      "STOP\n",
      "STOP\n",
      "STOP\n",
      "STOP\n",
      "STOP\n",
      "STOP\n",
      "STOP\n",
      "STOP\n",
      "STOP\n",
      "STOP\n",
      "STOP\n",
      "STOP\n",
      "STOP\n",
      "STOP\n",
      "STOP\n",
      "STOP\n",
      "STOP\n",
      "STOP\n",
      "STOP\n",
      "STOP\n",
      "STOP\n",
      "STOP\n",
      "STOP\n",
      "STOP\n",
      "STOP\n",
      "STOP\n",
      "STOP\n",
      "STOP\n",
      "STOP\n",
      "STOP\n",
      "STOP\n",
      "STOP\n",
      "STOP\n",
      "STOP\n",
      "STOP\n",
      "STOP\n",
      "STOP\n",
      "STOP\n",
      "STOP\n",
      "STOP\n",
      "STOP\n",
      "STOP\n",
      "STOP\n",
      "STOP\n",
      "STOP\n",
      "STOP\n",
      "STOP\n",
      "STOP\n",
      "STOP\n",
      "STOP\n",
      "STOP\n",
      "STOP\n",
      "STOP\n",
      "STOP\n",
      "STOP\n",
      "STOP\n",
      "STOP\n",
      "STOP\n",
      "STOP\n",
      "STOP\n",
      "STOP\n",
      "STOP\n",
      "STOP\n",
      "STOP\n",
      "STOP\n",
      "STOP\n",
      "STOP\n",
      "STOP\n",
      "STOP\n",
      "STOP\n",
      "STOP\n",
      "STOP\n",
      "STOP\n",
      "STOP\n",
      "STOP\n",
      "STOP\n",
      "STOP\n",
      "STOP\n",
      "STOP\n",
      "STOP\n",
      "STOP\n",
      "STOP\n",
      "STOP\n",
      "STOP\n",
      "STOP\n",
      "STOP\n",
      "STOP\n",
      "STOP\n",
      "STOP\n",
      "STOP\n",
      "STOP\n",
      "STOP\n",
      "STOP\n",
      "STOP\n",
      "STOP\n",
      "STOP\n",
      "STOP\n",
      "STOP\n",
      "STOP\n",
      "STOP\n",
      "STOP\n",
      "STOP\n",
      "STOP\n",
      "STOP\n",
      "STOP\n",
      "STOP\n",
      "STOP\n",
      "STOP\n",
      "STOP\n",
      "STOP\n",
      "STOP\n",
      "STOP\n",
      "STOP\n",
      "STOP\n",
      "STOP\n",
      "STOP\n",
      "STOP\n",
      "STOP\n",
      "STOP\n",
      "STOP\n",
      "STOP\n",
      "STOP\n",
      "STOP\n",
      "STOP\n",
      "STOP\n",
      "STOP\n",
      "STOP\n",
      "STOP\n",
      "STOP\n",
      "STOP\n",
      "STOP\n",
      "STOP\n",
      "STOP\n",
      "STOP\n",
      "STOP\n",
      "STOP\n",
      "STOP\n",
      "STOP\n",
      "STOP\n",
      "STOP\n",
      "STOP\n",
      "STOP\n",
      "STOP\n",
      "STOP\n",
      "STOP\n",
      "STOP\n",
      "STOP\n",
      "STOP\n",
      "STOP\n",
      "STOP\n",
      "STOP\n",
      "STOP\n",
      "STOP\n",
      "STOP\n",
      "STOP\n",
      "STOP\n",
      "STOP\n",
      "STOP\n",
      "STOP\n",
      "STOP\n",
      "STOP\n",
      "STOP\n",
      "STOP\n",
      "STOP\n",
      "STOP\n",
      "STOP\n",
      "STOP\n",
      "STOP\n",
      "STOP\n",
      "STOP\n",
      "STOP\n",
      "STOP\n",
      "STOP\n",
      "STOP\n",
      "STOP\n",
      "STOP\n",
      "STOP\n",
      "STOP\n",
      "STOP\n",
      "STOP\n",
      "STOP\n",
      "STOP\n",
      "STOP\n",
      "STOP\n",
      "STOP\n",
      "STOP\n",
      "STOP\n",
      "STOP\n",
      "STOP\n",
      "STOP\n",
      "STOP\n",
      "STOP\n",
      "STOP\n",
      "STOP\n",
      "STOP\n",
      "STOP\n",
      "STOP\n",
      "STOP\n",
      "STOP\n",
      "STOP\n",
      "STOP\n",
      "STOP\n"
     ]
    },
    {
     "ename": "KeyboardInterrupt",
     "evalue": "",
     "output_type": "error",
     "traceback": [
      "\u001b[1;31m---------------------------------------------------------------------------\u001b[0m",
      "\u001b[1;31mKeyboardInterrupt\u001b[0m                         Traceback (most recent call last)",
      "\u001b[1;32m<ipython-input-4-948a8e4e8478>\u001b[0m in \u001b[0;36m<module>\u001b[1;34m\u001b[0m\n\u001b[0;32m      6\u001b[0m     \u001b[1;32mfor\u001b[0m \u001b[0mi\u001b[0m \u001b[1;32min\u001b[0m \u001b[0mtqdm\u001b[0m\u001b[1;33m.\u001b[0m\u001b[0mtqdm_notebook\u001b[0m\u001b[1;33m(\u001b[0m\u001b[0mrange\u001b[0m\u001b[1;33m(\u001b[0m\u001b[0mlen\u001b[0m\u001b[1;33m(\u001b[0m\u001b[0mfiles\u001b[0m\u001b[1;33m)\u001b[0m\u001b[1;33m)\u001b[0m\u001b[1;33m)\u001b[0m\u001b[1;33m:\u001b[0m\u001b[1;33m\u001b[0m\u001b[0m\n\u001b[0;32m      7\u001b[0m         \u001b[1;32mif\u001b[0m \u001b[0mfiles\u001b[0m\u001b[1;33m[\u001b[0m\u001b[0mi\u001b[0m\u001b[1;33m]\u001b[0m \u001b[1;33m!=\u001b[0m \u001b[1;34m'metadata.json'\u001b[0m\u001b[1;33m:\u001b[0m\u001b[1;33m\u001b[0m\u001b[0m\n\u001b[1;32m----> 8\u001b[1;33m             \u001b[0my\u001b[0m \u001b[1;33m=\u001b[0m \u001b[0my_train\u001b[0m\u001b[1;33m[\u001b[0m\u001b[0my_train\u001b[0m\u001b[1;33m.\u001b[0m\u001b[0mname\u001b[0m \u001b[1;33m==\u001b[0m \u001b[0mfiles\u001b[0m\u001b[1;33m[\u001b[0m\u001b[0mi\u001b[0m\u001b[1;33m]\u001b[0m\u001b[1;33m.\u001b[0m\u001b[0msplit\u001b[0m\u001b[1;33m(\u001b[0m\u001b[1;34m'.'\u001b[0m\u001b[1;33m)\u001b[0m\u001b[1;33m[\u001b[0m\u001b[1;36m0\u001b[0m\u001b[1;33m]\u001b[0m\u001b[1;33m]\u001b[0m\u001b[1;33m.\u001b[0m\u001b[0mlabel\u001b[0m\u001b[1;33m.\u001b[0m\u001b[0mvalues\u001b[0m\u001b[1;33m[\u001b[0m\u001b[1;36m0\u001b[0m\u001b[1;33m]\u001b[0m\u001b[1;33m\u001b[0m\u001b[0m\n\u001b[0m\u001b[0;32m      9\u001b[0m             \u001b[1;32mif\u001b[0m \u001b[0mreal\u001b[0m \u001b[1;33m<\u001b[0m \u001b[1;36m2000\u001b[0m \u001b[1;32mand\u001b[0m \u001b[0my\u001b[0m \u001b[1;33m==\u001b[0m \u001b[1;36m0\u001b[0m\u001b[1;33m:\u001b[0m\u001b[1;33m\u001b[0m\u001b[0m\n\u001b[0;32m     10\u001b[0m                 \u001b[0mos\u001b[0m\u001b[1;33m.\u001b[0m\u001b[0mrename\u001b[0m\u001b[1;33m(\u001b[0m\u001b[0mDATA_PATH\u001b[0m \u001b[1;33m+\u001b[0m \u001b[1;34m'\\\\'\u001b[0m \u001b[1;33m+\u001b[0m \u001b[0mfiles\u001b[0m\u001b[1;33m[\u001b[0m\u001b[0mi\u001b[0m\u001b[1;33m]\u001b[0m\u001b[1;33m,\u001b[0m \u001b[1;34m'data\\\\validation_set\\\\real\\\\'\u001b[0m \u001b[1;33m+\u001b[0m \u001b[0mfiles\u001b[0m\u001b[1;33m[\u001b[0m\u001b[0mi\u001b[0m\u001b[1;33m]\u001b[0m\u001b[1;33m)\u001b[0m\u001b[1;33m\u001b[0m\u001b[0m\n",
      "\u001b[1;32md:\\users\\user\\appdata\\local\\programs\\python\\python36\\lib\\site-packages\\pandas\\core\\ops.py\u001b[0m in \u001b[0;36mwrapper\u001b[1;34m(self, other, axis)\u001b[0m\n\u001b[0;32m   1764\u001b[0m \u001b[1;33m\u001b[0m\u001b[0m\n\u001b[0;32m   1765\u001b[0m             \u001b[1;32mwith\u001b[0m \u001b[0mnp\u001b[0m\u001b[1;33m.\u001b[0m\u001b[0merrstate\u001b[0m\u001b[1;33m(\u001b[0m\u001b[0mall\u001b[0m\u001b[1;33m=\u001b[0m\u001b[1;34m'ignore'\u001b[0m\u001b[1;33m)\u001b[0m\u001b[1;33m:\u001b[0m\u001b[1;33m\u001b[0m\u001b[0m\n\u001b[1;32m-> 1766\u001b[1;33m                 \u001b[0mres\u001b[0m \u001b[1;33m=\u001b[0m \u001b[0mna_op\u001b[0m\u001b[1;33m(\u001b[0m\u001b[0mvalues\u001b[0m\u001b[1;33m,\u001b[0m \u001b[0mother\u001b[0m\u001b[1;33m)\u001b[0m\u001b[1;33m\u001b[0m\u001b[0m\n\u001b[0m\u001b[0;32m   1767\u001b[0m             \u001b[1;32mif\u001b[0m \u001b[0mis_scalar\u001b[0m\u001b[1;33m(\u001b[0m\u001b[0mres\u001b[0m\u001b[1;33m)\u001b[0m\u001b[1;33m:\u001b[0m\u001b[1;33m\u001b[0m\u001b[0m\n\u001b[0;32m   1768\u001b[0m                 raise TypeError('Could not compare {typ} type with Series'\n",
      "\u001b[1;32md:\\users\\user\\appdata\\local\\programs\\python\\python36\\lib\\site-packages\\pandas\\core\\ops.py\u001b[0m in \u001b[0;36mna_op\u001b[1;34m(x, y)\u001b[0m\n\u001b[0;32m   1623\u001b[0m \u001b[1;33m\u001b[0m\u001b[0m\n\u001b[0;32m   1624\u001b[0m         \u001b[1;32mif\u001b[0m \u001b[0mis_object_dtype\u001b[0m\u001b[1;33m(\u001b[0m\u001b[0mx\u001b[0m\u001b[1;33m.\u001b[0m\u001b[0mdtype\u001b[0m\u001b[1;33m)\u001b[0m\u001b[1;33m:\u001b[0m\u001b[1;33m\u001b[0m\u001b[0m\n\u001b[1;32m-> 1625\u001b[1;33m             \u001b[0mresult\u001b[0m \u001b[1;33m=\u001b[0m \u001b[0m_comp_method_OBJECT_ARRAY\u001b[0m\u001b[1;33m(\u001b[0m\u001b[0mop\u001b[0m\u001b[1;33m,\u001b[0m \u001b[0mx\u001b[0m\u001b[1;33m,\u001b[0m \u001b[0my\u001b[0m\u001b[1;33m)\u001b[0m\u001b[1;33m\u001b[0m\u001b[0m\n\u001b[0m\u001b[0;32m   1626\u001b[0m \u001b[1;33m\u001b[0m\u001b[0m\n\u001b[0;32m   1627\u001b[0m         \u001b[1;32melif\u001b[0m \u001b[0mis_datetimelike_v_numeric\u001b[0m\u001b[1;33m(\u001b[0m\u001b[0mx\u001b[0m\u001b[1;33m,\u001b[0m \u001b[0my\u001b[0m\u001b[1;33m)\u001b[0m\u001b[1;33m:\u001b[0m\u001b[1;33m\u001b[0m\u001b[0m\n",
      "\u001b[1;31mKeyboardInterrupt\u001b[0m: "
     ]
    }
   ],
   "source": [
    "real = 0\n",
    "fake = 0\n",
    "for j in tqdm.tqdm_notebook(range(23, 24)):\n",
    "    DATA_PATH = 'data\\\\frames\\\\dfdc_train_part_' + str(j) + '_img'\n",
    "    files = os.listdir(DATA_PATH)\n",
    "    for i in tqdm.tqdm_notebook(range(len(files))):\n",
    "        if files[i] != 'metadata.json':\n",
    "            y = y_train[y_train.name == files[i].split('.')[0]].label.values[0]\n",
    "            if real < 2000 and y == 0:\n",
    "                os.rename(DATA_PATH + '\\\\' + files[i], 'data\\\\validation_set\\\\real\\\\' + files[i])\n",
    "                real += 1\n",
    "            if fake < 2000 and y == 1:\n",
    "                os.rename(DATA_PATH + '\\\\' + files[i], 'data\\\\validation_set\\\\fake\\\\' + files[i])\n",
    "                fake += 1\n",
    "            \n",
    "            if fake == 2000 and real == 2000:\n",
    "                print('STOP')"
   ]
  },
  {
   "cell_type": "code",
   "execution_count": 33,
   "metadata": {},
   "outputs": [
    {
     "data": {
      "text/html": [
       "<div>\n",
       "<style scoped>\n",
       "    .dataframe tbody tr th:only-of-type {\n",
       "        vertical-align: middle;\n",
       "    }\n",
       "\n",
       "    .dataframe tbody tr th {\n",
       "        vertical-align: top;\n",
       "    }\n",
       "\n",
       "    .dataframe thead th {\n",
       "        text-align: right;\n",
       "    }\n",
       "</style>\n",
       "<table border=\"1\" class=\"dataframe\">\n",
       "  <thead>\n",
       "    <tr style=\"text-align: right;\">\n",
       "      <th></th>\n",
       "      <th>name</th>\n",
       "      <th>label</th>\n",
       "    </tr>\n",
       "  </thead>\n",
       "  <tbody>\n",
       "    <tr>\n",
       "      <th>100540</th>\n",
       "      <td>aacehwwzol</td>\n",
       "      <td>1</td>\n",
       "    </tr>\n",
       "  </tbody>\n",
       "</table>\n",
       "</div>"
      ],
      "text/plain": [
       "              name  label\n",
       "100540  aacehwwzol      1"
      ]
     },
     "execution_count": 33,
     "metadata": {},
     "output_type": "execute_result"
    }
   ],
   "source": [
    "y_train[y_train.name == 'aacehwwzol']"
   ]
  },
  {
   "cell_type": "code",
   "execution_count": 34,
   "metadata": {},
   "outputs": [
    {
     "name": "stderr",
     "output_type": "stream",
     "text": [
      "d:\\users\\user\\appdata\\local\\programs\\python\\python36\\lib\\site-packages\\ipykernel_launcher.py:5: TqdmDeprecationWarning: This function will be removed in tqdm==5.0.0\n",
      "Please use `tqdm.notebook.tqdm` instead of `tqdm.tqdm_notebook`\n",
      "  \"\"\"\n"
     ]
    },
    {
     "data": {
      "application/vnd.jupyter.widget-view+json": {
       "model_id": "aa4f30ba7e324c41a252babb19d8b139",
       "version_major": 2,
       "version_minor": 0
      },
      "text/plain": [
       "HBox(children=(FloatProgress(value=0.0, max=95624.0), HTML(value='')))"
      ]
     },
     "metadata": {},
     "output_type": "display_data"
    },
    {
     "name": "stdout",
     "output_type": "stream",
     "text": [
      "STOP\n",
      "STOP\n",
      "STOP\n",
      "STOP\n",
      "STOP\n",
      "STOP\n",
      "STOP\n",
      "STOP\n",
      "STOP\n",
      "STOP\n",
      "STOP\n",
      "STOP\n",
      "STOP\n",
      "STOP\n",
      "STOP\n",
      "STOP\n",
      "STOP\n",
      "STOP\n",
      "STOP\n",
      "STOP\n",
      "STOP\n",
      "STOP\n",
      "STOP\n",
      "STOP\n",
      "STOP\n",
      "STOP\n",
      "STOP\n",
      "STOP\n",
      "STOP\n",
      "STOP\n",
      "STOP\n",
      "STOP\n",
      "STOP\n",
      "STOP\n",
      "STOP\n",
      "STOP\n",
      "STOP\n",
      "STOP\n",
      "STOP\n",
      "STOP\n",
      "STOP\n",
      "STOP\n",
      "STOP\n",
      "STOP\n",
      "STOP\n",
      "STOP\n",
      "STOP\n",
      "STOP\n",
      "STOP\n",
      "STOP\n",
      "STOP\n",
      "STOP\n",
      "STOP\n",
      "STOP\n",
      "STOP\n",
      "STOP\n",
      "STOP\n",
      "STOP\n",
      "STOP\n",
      "STOP\n",
      "STOP\n",
      "STOP\n",
      "STOP\n",
      "STOP\n",
      "STOP\n",
      "STOP\n",
      "STOP\n",
      "STOP\n",
      "STOP\n",
      "STOP\n",
      "STOP\n",
      "STOP\n",
      "STOP\n",
      "STOP\n",
      "STOP\n",
      "STOP\n",
      "STOP\n",
      "STOP\n",
      "STOP\n",
      "STOP\n",
      "STOP\n",
      "STOP\n",
      "STOP\n",
      "STOP\n",
      "STOP\n",
      "STOP\n",
      "STOP\n",
      "STOP\n",
      "STOP\n",
      "STOP\n",
      "STOP\n",
      "STOP\n",
      "STOP\n",
      "STOP\n",
      "STOP\n",
      "STOP\n",
      "STOP\n",
      "STOP\n",
      "STOP\n",
      "STOP\n",
      "STOP\n",
      "STOP\n",
      "STOP\n",
      "STOP\n",
      "STOP\n",
      "STOP\n",
      "STOP\n",
      "STOP\n",
      "STOP\n",
      "STOP\n",
      "STOP\n",
      "STOP\n",
      "STOP\n",
      "STOP\n",
      "STOP\n",
      "STOP\n",
      "STOP\n",
      "STOP\n",
      "STOP\n",
      "STOP\n",
      "STOP\n",
      "STOP\n",
      "STOP\n",
      "STOP\n",
      "STOP\n",
      "STOP\n",
      "STOP\n",
      "STOP\n",
      "STOP\n",
      "STOP\n",
      "STOP\n",
      "STOP\n",
      "STOP\n",
      "STOP\n",
      "STOP\n",
      "STOP\n",
      "STOP\n",
      "STOP\n",
      "STOP\n",
      "STOP\n",
      "STOP\n",
      "STOP\n",
      "STOP\n",
      "STOP\n",
      "STOP\n",
      "STOP\n",
      "STOP\n",
      "STOP\n",
      "STOP\n",
      "STOP\n",
      "STOP\n",
      "STOP\n",
      "STOP\n",
      "STOP\n",
      "STOP\n",
      "STOP\n",
      "STOP\n",
      "STOP\n",
      "STOP\n",
      "STOP\n",
      "STOP\n",
      "STOP\n",
      "STOP\n",
      "STOP\n",
      "STOP\n",
      "STOP\n",
      "STOP\n",
      "STOP\n",
      "STOP\n",
      "STOP\n",
      "STOP\n",
      "STOP\n",
      "STOP\n",
      "STOP\n",
      "STOP\n",
      "STOP\n",
      "STOP\n",
      "STOP\n",
      "STOP\n",
      "STOP\n",
      "STOP\n",
      "STOP\n",
      "STOP\n",
      "STOP\n",
      "STOP\n",
      "STOP\n",
      "STOP\n",
      "STOP\n",
      "STOP\n",
      "STOP\n",
      "STOP\n",
      "STOP\n",
      "STOP\n",
      "STOP\n",
      "STOP\n",
      "STOP\n",
      "STOP\n",
      "STOP\n",
      "STOP\n",
      "STOP\n",
      "STOP\n",
      "STOP\n",
      "STOP\n",
      "STOP\n",
      "STOP\n",
      "STOP\n",
      "STOP\n",
      "STOP\n",
      "STOP\n",
      "STOP\n",
      "STOP\n",
      "STOP\n",
      "STOP\n",
      "STOP\n",
      "STOP\n",
      "STOP\n",
      "STOP\n",
      "STOP\n",
      "STOP\n",
      "STOP\n",
      "STOP\n",
      "STOP\n",
      "STOP\n",
      "STOP\n",
      "STOP\n",
      "STOP\n",
      "STOP\n",
      "STOP\n",
      "STOP\n",
      "STOP\n",
      "STOP\n",
      "STOP\n",
      "STOP\n",
      "STOP\n",
      "STOP\n",
      "STOP\n",
      "STOP\n",
      "STOP\n",
      "STOP\n",
      "STOP\n",
      "STOP\n",
      "STOP\n",
      "STOP\n",
      "STOP\n",
      "STOP\n",
      "STOP\n",
      "STOP\n",
      "STOP\n",
      "STOP\n",
      "STOP\n",
      "STOP\n",
      "STOP\n",
      "STOP\n",
      "STOP\n",
      "STOP\n",
      "STOP\n",
      "STOP\n",
      "STOP\n",
      "STOP\n",
      "STOP\n",
      "STOP\n",
      "STOP\n",
      "STOP\n",
      "STOP\n",
      "STOP\n",
      "STOP\n",
      "STOP\n",
      "STOP\n",
      "STOP\n",
      "STOP\n",
      "STOP\n",
      "STOP\n",
      "STOP\n",
      "STOP\n",
      "STOP\n",
      "STOP\n",
      "STOP\n",
      "STOP\n",
      "STOP\n",
      "STOP\n",
      "STOP\n",
      "STOP\n",
      "STOP\n",
      "STOP\n",
      "STOP\n",
      "STOP\n",
      "STOP\n",
      "STOP\n",
      "STOP\n",
      "STOP\n",
      "STOP\n",
      "STOP\n",
      "STOP\n",
      "STOP\n",
      "STOP\n",
      "STOP\n",
      "STOP\n",
      "STOP\n",
      "STOP\n",
      "STOP\n",
      "STOP\n",
      "STOP\n",
      "STOP\n",
      "STOP\n",
      "STOP\n",
      "STOP\n",
      "STOP\n",
      "STOP\n",
      "STOP\n",
      "STOP\n",
      "STOP\n",
      "STOP\n",
      "STOP\n",
      "STOP\n",
      "STOP\n",
      "STOP\n",
      "STOP\n",
      "STOP\n",
      "STOP\n",
      "STOP\n",
      "STOP\n",
      "STOP\n",
      "STOP\n",
      "STOP\n",
      "STOP\n",
      "STOP\n",
      "STOP\n",
      "STOP\n",
      "STOP\n",
      "STOP\n",
      "STOP\n",
      "STOP\n",
      "STOP\n",
      "STOP\n",
      "STOP\n",
      "STOP\n",
      "STOP\n",
      "STOP\n",
      "STOP\n",
      "STOP\n",
      "STOP\n",
      "STOP\n",
      "STOP\n",
      "STOP\n",
      "STOP\n",
      "STOP\n",
      "STOP\n",
      "STOP\n",
      "STOP\n",
      "STOP\n",
      "STOP\n",
      "STOP\n",
      "STOP\n",
      "STOP\n",
      "STOP\n",
      "STOP\n",
      "STOP\n",
      "STOP\n",
      "STOP\n",
      "STOP\n",
      "STOP\n",
      "STOP\n",
      "STOP\n",
      "STOP\n",
      "STOP\n",
      "STOP\n",
      "STOP\n",
      "STOP\n",
      "STOP\n",
      "STOP\n",
      "STOP\n",
      "STOP\n",
      "STOP\n",
      "STOP\n",
      "STOP\n",
      "STOP\n",
      "STOP\n",
      "STOP\n",
      "STOP\n",
      "STOP\n",
      "STOP\n",
      "STOP\n",
      "STOP\n",
      "STOP\n",
      "STOP\n",
      "STOP\n",
      "STOP\n",
      "STOP\n",
      "STOP\n",
      "STOP\n",
      "STOP\n",
      "STOP\n",
      "STOP\n",
      "STOP\n",
      "STOP\n",
      "STOP\n",
      "STOP\n",
      "STOP\n",
      "STOP\n",
      "STOP\n",
      "STOP\n",
      "STOP\n",
      "STOP\n",
      "STOP\n",
      "STOP\n",
      "STOP\n",
      "STOP\n",
      "STOP\n",
      "STOP\n",
      "STOP\n",
      "STOP\n",
      "STOP\n",
      "STOP\n",
      "STOP\n",
      "STOP\n",
      "STOP\n",
      "STOP\n",
      "STOP\n",
      "STOP\n",
      "STOP\n",
      "STOP\n",
      "STOP\n",
      "STOP\n",
      "STOP\n",
      "STOP\n",
      "STOP\n",
      "STOP\n",
      "STOP\n",
      "STOP\n",
      "STOP\n",
      "STOP\n",
      "STOP\n",
      "STOP\n",
      "STOP\n",
      "STOP\n",
      "STOP\n",
      "STOP\n",
      "STOP\n",
      "STOP\n",
      "STOP\n",
      "STOP\n",
      "STOP\n",
      "STOP\n",
      "STOP\n",
      "STOP\n",
      "STOP\n",
      "STOP\n",
      "STOP\n",
      "STOP\n",
      "STOP\n",
      "STOP\n",
      "STOP\n",
      "STOP\n",
      "STOP\n",
      "STOP\n",
      "STOP\n",
      "STOP\n",
      "STOP\n",
      "STOP\n",
      "STOP\n",
      "STOP\n",
      "STOP\n",
      "STOP\n",
      "STOP\n",
      "STOP\n",
      "STOP\n",
      "STOP\n",
      "STOP\n",
      "STOP\n",
      "STOP\n",
      "STOP\n",
      "STOP\n",
      "STOP\n",
      "STOP\n",
      "STOP\n",
      "STOP\n",
      "STOP\n",
      "STOP\n",
      "STOP\n",
      "STOP\n",
      "STOP\n",
      "STOP\n",
      "STOP\n",
      "STOP\n",
      "STOP\n",
      "STOP\n",
      "STOP\n",
      "STOP\n",
      "STOP\n",
      "STOP\n",
      "STOP\n"
     ]
    },
    {
     "ename": "KeyboardInterrupt",
     "evalue": "",
     "output_type": "error",
     "traceback": [
      "\u001b[1;31m---------------------------------------------------------------------------\u001b[0m",
      "\u001b[1;31mKeyboardInterrupt\u001b[0m                         Traceback (most recent call last)",
      "\u001b[1;32m<ipython-input-34-84b85471c13e>\u001b[0m in \u001b[0;36m<module>\u001b[1;34m\u001b[0m\n\u001b[0;32m      4\u001b[0m \u001b[0mfiles\u001b[0m \u001b[1;33m=\u001b[0m \u001b[0mos\u001b[0m\u001b[1;33m.\u001b[0m\u001b[0mlistdir\u001b[0m\u001b[1;33m(\u001b[0m\u001b[0mDATA_PATH\u001b[0m\u001b[1;33m)\u001b[0m\u001b[1;33m\u001b[0m\u001b[0m\n\u001b[0;32m      5\u001b[0m \u001b[1;32mfor\u001b[0m \u001b[0mi\u001b[0m \u001b[1;32min\u001b[0m \u001b[0mtqdm\u001b[0m\u001b[1;33m.\u001b[0m\u001b[0mtqdm_notebook\u001b[0m\u001b[1;33m(\u001b[0m\u001b[0mrange\u001b[0m\u001b[1;33m(\u001b[0m\u001b[0mlen\u001b[0m\u001b[1;33m(\u001b[0m\u001b[0mfiles\u001b[0m\u001b[1;33m)\u001b[0m\u001b[1;33m)\u001b[0m\u001b[1;33m)\u001b[0m\u001b[1;33m:\u001b[0m\u001b[1;33m\u001b[0m\u001b[0m\n\u001b[1;32m----> 6\u001b[1;33m     \u001b[0my\u001b[0m \u001b[1;33m=\u001b[0m \u001b[0my_train\u001b[0m\u001b[1;33m[\u001b[0m\u001b[0my_train\u001b[0m\u001b[1;33m.\u001b[0m\u001b[0mname\u001b[0m \u001b[1;33m==\u001b[0m \u001b[0mfiles\u001b[0m\u001b[1;33m[\u001b[0m\u001b[0mi\u001b[0m\u001b[1;33m]\u001b[0m\u001b[1;33m.\u001b[0m\u001b[0msplit\u001b[0m\u001b[1;33m(\u001b[0m\u001b[1;34m'.'\u001b[0m\u001b[1;33m)\u001b[0m\u001b[1;33m[\u001b[0m\u001b[1;36m0\u001b[0m\u001b[1;33m]\u001b[0m\u001b[1;33m]\u001b[0m\u001b[1;33m.\u001b[0m\u001b[0mlabel\u001b[0m\u001b[1;33m.\u001b[0m\u001b[0mvalues\u001b[0m\u001b[1;33m[\u001b[0m\u001b[1;36m0\u001b[0m\u001b[1;33m]\u001b[0m\u001b[1;33m\u001b[0m\u001b[0m\n\u001b[0m\u001b[0;32m      7\u001b[0m     \u001b[1;32mif\u001b[0m \u001b[0mreal\u001b[0m \u001b[1;33m<\u001b[0m \u001b[1;36m2000\u001b[0m \u001b[1;32mand\u001b[0m \u001b[0my\u001b[0m \u001b[1;33m==\u001b[0m \u001b[1;36m0\u001b[0m\u001b[1;33m:\u001b[0m\u001b[1;33m\u001b[0m\u001b[0m\n\u001b[0;32m      8\u001b[0m         \u001b[0mos\u001b[0m\u001b[1;33m.\u001b[0m\u001b[0mrename\u001b[0m\u001b[1;33m(\u001b[0m\u001b[0mDATA_PATH\u001b[0m \u001b[1;33m+\u001b[0m \u001b[1;34m'\\\\'\u001b[0m \u001b[1;33m+\u001b[0m \u001b[0mfiles\u001b[0m\u001b[1;33m[\u001b[0m\u001b[0mi\u001b[0m\u001b[1;33m]\u001b[0m\u001b[1;33m,\u001b[0m \u001b[1;34m'data\\\\other\\\\validation_set\\\\real\\\\'\u001b[0m \u001b[1;33m+\u001b[0m \u001b[0mfiles\u001b[0m\u001b[1;33m[\u001b[0m\u001b[0mi\u001b[0m\u001b[1;33m]\u001b[0m\u001b[1;33m)\u001b[0m\u001b[1;33m\u001b[0m\u001b[0m\n",
      "\u001b[1;32md:\\users\\user\\appdata\\local\\programs\\python\\python36\\lib\\site-packages\\pandas\\core\\ops.py\u001b[0m in \u001b[0;36mwrapper\u001b[1;34m(self, other, axis)\u001b[0m\n\u001b[0;32m   1772\u001b[0m             \u001b[0mres_values\u001b[0m \u001b[1;33m=\u001b[0m \u001b[0mcom\u001b[0m\u001b[1;33m.\u001b[0m\u001b[0mvalues_from_object\u001b[0m\u001b[1;33m(\u001b[0m\u001b[0mres\u001b[0m\u001b[1;33m)\u001b[0m\u001b[1;33m\u001b[0m\u001b[0m\n\u001b[0;32m   1773\u001b[0m             return self._constructor(res_values, index=self.index,\n\u001b[1;32m-> 1774\u001b[1;33m                                      name=res_name, dtype='bool')\n\u001b[0m\u001b[0;32m   1775\u001b[0m \u001b[1;33m\u001b[0m\u001b[0m\n\u001b[0;32m   1776\u001b[0m     \u001b[0mwrapper\u001b[0m\u001b[1;33m.\u001b[0m\u001b[0m__name__\u001b[0m \u001b[1;33m=\u001b[0m \u001b[0mop_name\u001b[0m\u001b[1;33m\u001b[0m\u001b[0m\n",
      "\u001b[1;32md:\\users\\user\\appdata\\local\\programs\\python\\python36\\lib\\site-packages\\pandas\\core\\series.py\u001b[0m in \u001b[0;36m__init__\u001b[1;34m(self, data, index, dtype, name, copy, fastpath)\u001b[0m\n\u001b[0;32m    260\u001b[0m             \u001b[1;32melse\u001b[0m\u001b[1;33m:\u001b[0m\u001b[1;33m\u001b[0m\u001b[0m\n\u001b[0;32m    261\u001b[0m                 data = sanitize_array(data, index, dtype, copy,\n\u001b[1;32m--> 262\u001b[1;33m                                       raise_cast_failure=True)\n\u001b[0m\u001b[0;32m    263\u001b[0m \u001b[1;33m\u001b[0m\u001b[0m\n\u001b[0;32m    264\u001b[0m                 \u001b[0mdata\u001b[0m \u001b[1;33m=\u001b[0m \u001b[0mSingleBlockManager\u001b[0m\u001b[1;33m(\u001b[0m\u001b[0mdata\u001b[0m\u001b[1;33m,\u001b[0m \u001b[0mindex\u001b[0m\u001b[1;33m,\u001b[0m \u001b[0mfastpath\u001b[0m\u001b[1;33m=\u001b[0m\u001b[1;32mTrue\u001b[0m\u001b[1;33m)\u001b[0m\u001b[1;33m\u001b[0m\u001b[0m\n",
      "\u001b[1;32md:\\users\\user\\appdata\\local\\programs\\python\\python36\\lib\\site-packages\\pandas\\core\\internals\\construction.py\u001b[0m in \u001b[0;36msanitize_array\u001b[1;34m(data, index, dtype, copy, raise_cast_failure)\u001b[0m\n\u001b[0;32m    570\u001b[0m                         \u001b[0msubarr\u001b[0m \u001b[1;33m=\u001b[0m \u001b[0mdata\u001b[0m\u001b[1;33m.\u001b[0m\u001b[0mcopy\u001b[0m\u001b[1;33m(\u001b[0m\u001b[1;33m)\u001b[0m\u001b[1;33m\u001b[0m\u001b[0m\n\u001b[0;32m    571\u001b[0m             \u001b[1;32melse\u001b[0m\u001b[1;33m:\u001b[0m\u001b[1;33m\u001b[0m\u001b[0m\n\u001b[1;32m--> 572\u001b[1;33m                 \u001b[0msubarr\u001b[0m \u001b[1;33m=\u001b[0m \u001b[0m_try_cast\u001b[0m\u001b[1;33m(\u001b[0m\u001b[0mdata\u001b[0m\u001b[1;33m,\u001b[0m \u001b[1;32mTrue\u001b[0m\u001b[1;33m,\u001b[0m \u001b[0mdtype\u001b[0m\u001b[1;33m,\u001b[0m \u001b[0mcopy\u001b[0m\u001b[1;33m,\u001b[0m \u001b[0mraise_cast_failure\u001b[0m\u001b[1;33m)\u001b[0m\u001b[1;33m\u001b[0m\u001b[0m\n\u001b[0m\u001b[0;32m    573\u001b[0m         \u001b[1;32melif\u001b[0m \u001b[0misinstance\u001b[0m\u001b[1;33m(\u001b[0m\u001b[0mdata\u001b[0m\u001b[1;33m,\u001b[0m \u001b[0mIndex\u001b[0m\u001b[1;33m)\u001b[0m\u001b[1;33m:\u001b[0m\u001b[1;33m\u001b[0m\u001b[0m\n\u001b[0;32m    574\u001b[0m             \u001b[1;31m# don't coerce Index types\u001b[0m\u001b[1;33m\u001b[0m\u001b[1;33m\u001b[0m\u001b[0m\n",
      "\u001b[1;32md:\\users\\user\\appdata\\local\\programs\\python\\python36\\lib\\site-packages\\pandas\\core\\internals\\construction.py\u001b[0m in \u001b[0;36m_try_cast\u001b[1;34m(arr, take_fast_path, dtype, copy, raise_cast_failure)\u001b[0m\n\u001b[0;32m    695\u001b[0m             \u001b[0msubarr\u001b[0m \u001b[1;33m=\u001b[0m \u001b[0mmaybe_cast_to_integer_array\u001b[0m\u001b[1;33m(\u001b[0m\u001b[0marr\u001b[0m\u001b[1;33m,\u001b[0m \u001b[0mdtype\u001b[0m\u001b[1;33m)\u001b[0m\u001b[1;33m\u001b[0m\u001b[0m\n\u001b[0;32m    696\u001b[0m \u001b[1;33m\u001b[0m\u001b[0m\n\u001b[1;32m--> 697\u001b[1;33m         \u001b[0msubarr\u001b[0m \u001b[1;33m=\u001b[0m \u001b[0mmaybe_cast_to_datetime\u001b[0m\u001b[1;33m(\u001b[0m\u001b[0marr\u001b[0m\u001b[1;33m,\u001b[0m \u001b[0mdtype\u001b[0m\u001b[1;33m)\u001b[0m\u001b[1;33m\u001b[0m\u001b[0m\n\u001b[0m\u001b[0;32m    698\u001b[0m         \u001b[1;31m# Take care in creating object arrays (but iterators are not\u001b[0m\u001b[1;33m\u001b[0m\u001b[1;33m\u001b[0m\u001b[0m\n\u001b[0;32m    699\u001b[0m         \u001b[1;31m# supported):\u001b[0m\u001b[1;33m\u001b[0m\u001b[1;33m\u001b[0m\u001b[0m\n",
      "\u001b[1;32md:\\users\\user\\appdata\\local\\programs\\python\\python36\\lib\\site-packages\\pandas\\core\\dtypes\\cast.py\u001b[0m in \u001b[0;36mmaybe_cast_to_datetime\u001b[1;34m(value, dtype, errors)\u001b[0m\n\u001b[0;32m    963\u001b[0m \u001b[1;33m\u001b[0m\u001b[0m\n\u001b[0;32m    964\u001b[0m         \u001b[0mis_datetime64\u001b[0m \u001b[1;33m=\u001b[0m \u001b[0mis_datetime64_dtype\u001b[0m\u001b[1;33m(\u001b[0m\u001b[0mdtype\u001b[0m\u001b[1;33m)\u001b[0m\u001b[1;33m\u001b[0m\u001b[0m\n\u001b[1;32m--> 965\u001b[1;33m         \u001b[0mis_datetime64tz\u001b[0m \u001b[1;33m=\u001b[0m \u001b[0mis_datetime64tz_dtype\u001b[0m\u001b[1;33m(\u001b[0m\u001b[0mdtype\u001b[0m\u001b[1;33m)\u001b[0m\u001b[1;33m\u001b[0m\u001b[0m\n\u001b[0m\u001b[0;32m    966\u001b[0m         \u001b[0mis_timedelta64\u001b[0m \u001b[1;33m=\u001b[0m \u001b[0mis_timedelta64_dtype\u001b[0m\u001b[1;33m(\u001b[0m\u001b[0mdtype\u001b[0m\u001b[1;33m)\u001b[0m\u001b[1;33m\u001b[0m\u001b[0m\n\u001b[0;32m    967\u001b[0m \u001b[1;33m\u001b[0m\u001b[0m\n",
      "\u001b[1;32md:\\users\\user\\appdata\\local\\programs\\python\\python36\\lib\\site-packages\\pandas\\core\\dtypes\\common.py\u001b[0m in \u001b[0;36mis_datetime64tz_dtype\u001b[1;34m(arr_or_dtype)\u001b[0m\n\u001b[0;32m    467\u001b[0m     \u001b[1;32mif\u001b[0m \u001b[0marr_or_dtype\u001b[0m \u001b[1;32mis\u001b[0m \u001b[1;32mNone\u001b[0m\u001b[1;33m:\u001b[0m\u001b[1;33m\u001b[0m\u001b[0m\n\u001b[0;32m    468\u001b[0m         \u001b[1;32mreturn\u001b[0m \u001b[1;32mFalse\u001b[0m\u001b[1;33m\u001b[0m\u001b[0m\n\u001b[1;32m--> 469\u001b[1;33m     \u001b[1;32mreturn\u001b[0m \u001b[0mDatetimeTZDtype\u001b[0m\u001b[1;33m.\u001b[0m\u001b[0mis_dtype\u001b[0m\u001b[1;33m(\u001b[0m\u001b[0marr_or_dtype\u001b[0m\u001b[1;33m)\u001b[0m\u001b[1;33m\u001b[0m\u001b[0m\n\u001b[0m\u001b[0;32m    470\u001b[0m \u001b[1;33m\u001b[0m\u001b[0m\n\u001b[0;32m    471\u001b[0m \u001b[1;33m\u001b[0m\u001b[0m\n",
      "\u001b[1;32md:\\users\\user\\appdata\\local\\programs\\python\\python36\\lib\\site-packages\\pandas\\core\\dtypes\\base.py\u001b[0m in \u001b[0;36mis_dtype\u001b[1;34m(cls, dtype)\u001b[0m\n\u001b[0;32m     96\u001b[0m            \u001b[0mconditions\u001b[0m \u001b[1;32mis\u001b[0m \u001b[0mtrue\u001b[0m \u001b[1;32mfor\u001b[0m\u001b[0;31m \u001b[0m\u001b[0;31m`\u001b[0m\u001b[0;31m`\u001b[0m\u001b[0mdtype\u001b[0m\u001b[1;33m.\u001b[0m\u001b[0mdtype\u001b[0m\u001b[0;31m`\u001b[0m\u001b[0;31m`\u001b[0m\u001b[1;33m.\u001b[0m\u001b[1;33m\u001b[0m\u001b[0m\n\u001b[0;32m     97\u001b[0m         \"\"\"\n\u001b[1;32m---> 98\u001b[1;33m         \u001b[0mdtype\u001b[0m \u001b[1;33m=\u001b[0m \u001b[0mgetattr\u001b[0m\u001b[1;33m(\u001b[0m\u001b[0mdtype\u001b[0m\u001b[1;33m,\u001b[0m \u001b[1;34m'dtype'\u001b[0m\u001b[1;33m,\u001b[0m \u001b[0mdtype\u001b[0m\u001b[1;33m)\u001b[0m\u001b[1;33m\u001b[0m\u001b[0m\n\u001b[0m\u001b[0;32m     99\u001b[0m \u001b[1;33m\u001b[0m\u001b[0m\n\u001b[0;32m    100\u001b[0m         if isinstance(dtype, (ABCSeries, ABCIndexClass,\n",
      "\u001b[1;31mKeyboardInterrupt\u001b[0m: "
     ]
    }
   ],
   "source": [
    "real = 0\n",
    "fake = 0\n",
    "DATA_PATH = 'data\\\\other\\\\frames\\\\faces_155'\n",
    "files = os.listdir(DATA_PATH)\n",
    "for i in tqdm.tqdm_notebook(range(len(files))):\n",
    "    y = y_train[y_train.name == files[i].split('.')[0]].label.values[0]\n",
    "    if real < 2000 and y == 0:\n",
    "        os.rename(DATA_PATH + '\\\\' + files[i], 'data\\\\other\\\\validation_set\\\\real\\\\' + files[i])\n",
    "        real += 1\n",
    "    if fake < 2000 and y == 1:\n",
    "        os.rename(DATA_PATH + '\\\\' + files[i], 'data\\\\other\\\\validation_set\\\\fake\\\\' + files[i])\n",
    "        fake += 1\n",
    "\n",
    "    if fake == 2000 and real == 2000:\n",
    "        print('STOP')"
   ]
  },
  {
   "cell_type": "code",
   "execution_count": 22,
   "metadata": {
    "scrolled": true
   },
   "outputs": [
    {
     "data": {
      "text/plain": [
       "1"
      ]
     },
     "execution_count": 22,
     "metadata": {},
     "output_type": "execute_result"
    }
   ],
   "source": [
    "y_train[y_train.name == 'owxbbpjpch'].label.values[0]"
   ]
  },
  {
   "cell_type": "code",
   "execution_count": 13,
   "metadata": {},
   "outputs": [],
   "source": [
    "def extract_first_frame(video_path, frames_path, y_train):\n",
    "    filename = video_path.split('\\\\')[-1].split('.')[0]\n",
    "    y = y_train[y_train.name == filename].label.values[0]\n",
    "    if y == 1:\n",
    "        pth = frames_path + filename + '.jpg'\n",
    "        vidcap = cv2.VideoCapture(video_path)\n",
    "        success,image = vidcap.read()\n",
    "        cv2.imwrite(pth, cv2.resize(image, (32,32), interpolation = cv2.INTER_AREA) )  # save frame as JPEG file\n",
    "    else:\n",
    "        vidcap = cv2.VideoCapture(video_path)\n",
    "        for i in range(5):\n",
    "            pth = frames_path + filename + \".\" + str(i) + '.jpg'\n",
    "            success,image = vidcap.read()\n",
    "            cv2.imwrite(pth, cv2.resize(image, (32,32), interpolation = cv2.INTER_AREA) )  # save frame as JPEG file"
   ]
  },
  {
   "cell_type": "code",
   "execution_count": 14,
   "metadata": {},
   "outputs": [
    {
     "name": "stdout",
     "output_type": "stream",
     "text": [
      "Wall time: 31.8 s\n"
     ]
    }
   ],
   "source": [
    "%%time\n",
    "'''Extract first frame from each test video'''\n",
    "DATA_PATH = 'data\\\\test_videos'\n",
    "FRAMES_PATH = 'data\\\\test_videos_img\\\\img\\\\'\n",
    "for file in os.listdir(DATA_PATH):\n",
    "    if file != 'metadata.json':\n",
    "        extract_first_frame(DATA_PATH + '\\\\' + file, FRAMES_PATH)"
   ]
  },
  {
   "cell_type": "code",
   "execution_count": 27,
   "metadata": {
    "scrolled": true
   },
   "outputs": [
    {
     "name": "stderr",
     "output_type": "stream",
     "text": [
      "d:\\users\\user\\appdata\\local\\programs\\python\\python36\\lib\\site-packages\\ipykernel_launcher.py:2: TqdmDeprecationWarning: This function will be removed in tqdm==5.0.0\n",
      "Please use `tqdm.notebook.tqdm` instead of `tqdm.tqdm_notebook`\n",
      "  \n"
     ]
    },
    {
     "data": {
      "application/vnd.jupyter.widget-view+json": {
       "model_id": "a9d69539d69b4edba75adf8072138b8a",
       "version_major": 2,
       "version_minor": 0
      },
      "text/plain": [
       "HBox(children=(FloatProgress(value=0.0, max=1.0), HTML(value='')))"
      ]
     },
     "metadata": {},
     "output_type": "display_data"
    },
    {
     "name": "stderr",
     "output_type": "stream",
     "text": [
      "d:\\users\\user\\appdata\\local\\programs\\python\\python36\\lib\\site-packages\\ipykernel_launcher.py:6: TqdmDeprecationWarning: This function will be removed in tqdm==5.0.0\n",
      "Please use `tqdm.notebook.tqdm` instead of `tqdm.tqdm_notebook`\n",
      "  \n"
     ]
    },
    {
     "data": {
      "application/vnd.jupyter.widget-view+json": {
       "model_id": "4f19fea69d12475b80e8ef42cd96346a",
       "version_major": 2,
       "version_minor": 0
      },
      "text/plain": [
       "HBox(children=(FloatProgress(value=0.0, max=2431.0), HTML(value='')))"
      ]
     },
     "metadata": {},
     "output_type": "display_data"
    },
    {
     "name": "stdout",
     "output_type": "stream",
     "text": [
      "\n",
      "\n",
      "Wall time: 4min 27s\n"
     ]
    }
   ],
   "source": [
    "%%time\n",
    "'''Extract first frame from each train video'''\n",
    "for j in tqdm.tqdm_notebook(range(17, 18)):\n",
    "    DATA_PATH = 'data\\\\train_sets\\\\dfdc_train_part_' + str(j)\n",
    "    FRAMES_PATH = 'data\\\\frames\\\\dfdc_train_part_'+str(j)+'_img\\\\'\n",
    "    files = os.listdir(DATA_PATH)\n",
    "    for i in tqdm.tqdm_notebook(range(len(files))):\n",
    "        if files[i] != 'metadata.json':\n",
    "            extract_first_frame(DATA_PATH + '\\\\' + files[i], FRAMES_PATH, y_train)"
   ]
  },
  {
   "cell_type": "code",
   "execution_count": 24,
   "metadata": {
    "scrolled": true
   },
   "outputs": [
    {
     "name": "stderr",
     "output_type": "stream",
     "text": [
      "d:\\users\\user\\appdata\\local\\programs\\python\\python36\\lib\\site-packages\\ipykernel_launcher.py:18: TqdmDeprecationWarning: This function will be removed in tqdm==5.0.0\n",
      "Please use `tqdm.notebook.tqdm` instead of `tqdm.tqdm_notebook`\n"
     ]
    },
    {
     "data": {
      "application/vnd.jupyter.widget-view+json": {
       "model_id": "f8403622794f46f591e214e50ac0023a",
       "version_major": 2,
       "version_minor": 0
      },
      "text/plain": [
       "HBox(children=(FloatProgress(value=0.0, max=1410.0), HTML(value='')))"
      ]
     },
     "metadata": {},
     "output_type": "display_data"
    },
    {
     "name": "stdout",
     "output_type": "stream",
     "text": [
      "\n"
     ]
    },
    {
     "data": {
      "application/vnd.jupyter.widget-view+json": {
       "model_id": "b1e6074bb1ef477b9ae76aabef3671dd",
       "version_major": 2,
       "version_minor": 0
      },
      "text/plain": [
       "HBox(children=(FloatProgress(value=0.0, max=2131.0), HTML(value='')))"
      ]
     },
     "metadata": {},
     "output_type": "display_data"
    },
    {
     "name": "stdout",
     "output_type": "stream",
     "text": [
      "\n"
     ]
    },
    {
     "data": {
      "application/vnd.jupyter.widget-view+json": {
       "model_id": "e5587ab56ff645dea11486b93964b0bc",
       "version_major": 2,
       "version_minor": 0
      },
      "text/plain": [
       "HBox(children=(FloatProgress(value=0.0, max=2668.0), HTML(value='')))"
      ]
     },
     "metadata": {},
     "output_type": "display_data"
    },
    {
     "name": "stdout",
     "output_type": "stream",
     "text": [
      "\n"
     ]
    },
    {
     "data": {
      "application/vnd.jupyter.widget-view+json": {
       "model_id": "ac28663563bd439b89585d9187df33ac",
       "version_major": 2,
       "version_minor": 0
      },
      "text/plain": [
       "HBox(children=(FloatProgress(value=0.0, max=2331.0), HTML(value='')))"
      ]
     },
     "metadata": {},
     "output_type": "display_data"
    },
    {
     "name": "stdout",
     "output_type": "stream",
     "text": [
      "\n"
     ]
    },
    {
     "data": {
      "application/vnd.jupyter.widget-view+json": {
       "model_id": "5b60805afd904dcbad051b73fd68beaf",
       "version_major": 2,
       "version_minor": 0
      },
      "text/plain": [
       "HBox(children=(FloatProgress(value=0.0, max=2433.0), HTML(value='')))"
      ]
     },
     "metadata": {},
     "output_type": "display_data"
    },
    {
     "name": "stdout",
     "output_type": "stream",
     "text": [
      "\n"
     ]
    },
    {
     "data": {
      "application/vnd.jupyter.widget-view+json": {
       "model_id": "198cd4e1c7c241baaac98b2c51c0416b",
       "version_major": 2,
       "version_minor": 0
      },
      "text/plain": [
       "HBox(children=(FloatProgress(value=0.0, max=3923.0), HTML(value='')))"
      ]
     },
     "metadata": {},
     "output_type": "display_data"
    },
    {
     "name": "stdout",
     "output_type": "stream",
     "text": [
      "\n"
     ]
    },
    {
     "data": {
      "application/vnd.jupyter.widget-view+json": {
       "model_id": "3f151730cc884755b5d6a5c06d0add8b",
       "version_major": 2,
       "version_minor": 0
      },
      "text/plain": [
       "HBox(children=(FloatProgress(value=0.0, max=5156.0), HTML(value='')))"
      ]
     },
     "metadata": {},
     "output_type": "display_data"
    },
    {
     "name": "stdout",
     "output_type": "stream",
     "text": [
      "\n"
     ]
    },
    {
     "data": {
      "application/vnd.jupyter.widget-view+json": {
       "model_id": "57fea3a5c9f047efbe6ba5dd6b623128",
       "version_major": 2,
       "version_minor": 0
      },
      "text/plain": [
       "HBox(children=(FloatProgress(value=0.0, max=3825.0), HTML(value='')))"
      ]
     },
     "metadata": {},
     "output_type": "display_data"
    },
    {
     "name": "stdout",
     "output_type": "stream",
     "text": [
      "\n"
     ]
    },
    {
     "data": {
      "application/vnd.jupyter.widget-view+json": {
       "model_id": "830fa38e43214d13b7e0b0e83016f4cf",
       "version_major": 2,
       "version_minor": 0
      },
      "text/plain": [
       "HBox(children=(FloatProgress(value=0.0, max=2924.0), HTML(value='')))"
      ]
     },
     "metadata": {},
     "output_type": "display_data"
    },
    {
     "name": "stdout",
     "output_type": "stream",
     "text": [
      "\n"
     ]
    },
    {
     "data": {
      "application/vnd.jupyter.widget-view+json": {
       "model_id": "193b192baf51461f96335560d9c6a459",
       "version_major": 2,
       "version_minor": 0
      },
      "text/plain": [
       "HBox(children=(FloatProgress(value=0.0, max=2888.0), HTML(value='')))"
      ]
     },
     "metadata": {},
     "output_type": "display_data"
    },
    {
     "name": "stdout",
     "output_type": "stream",
     "text": [
      "\n"
     ]
    },
    {
     "data": {
      "application/vnd.jupyter.widget-view+json": {
       "model_id": "97910639589f4c36a4a2e9c3bfff15ce",
       "version_major": 2,
       "version_minor": 0
      },
      "text/plain": [
       "HBox(children=(FloatProgress(value=0.0, max=4708.0), HTML(value='')))"
      ]
     },
     "metadata": {},
     "output_type": "display_data"
    },
    {
     "name": "stdout",
     "output_type": "stream",
     "text": [
      "\n"
     ]
    },
    {
     "data": {
      "application/vnd.jupyter.widget-view+json": {
       "model_id": "c8accb5fe6894b398fabfa9e7a9b6fc4",
       "version_major": 2,
       "version_minor": 0
      },
      "text/plain": [
       "HBox(children=(FloatProgress(value=0.0, max=3554.0), HTML(value='')))"
      ]
     },
     "metadata": {},
     "output_type": "display_data"
    },
    {
     "name": "stdout",
     "output_type": "stream",
     "text": [
      "\n"
     ]
    },
    {
     "data": {
      "application/vnd.jupyter.widget-view+json": {
       "model_id": "12a5a4fdebeb4295ae5cb5a77e59f81e",
       "version_major": 2,
       "version_minor": 0
      },
      "text/plain": [
       "HBox(children=(FloatProgress(value=0.0, max=3505.0), HTML(value='')))"
      ]
     },
     "metadata": {},
     "output_type": "display_data"
    },
    {
     "name": "stdout",
     "output_type": "stream",
     "text": [
      "\n"
     ]
    },
    {
     "data": {
      "application/vnd.jupyter.widget-view+json": {
       "model_id": "906101e1af024290bc9e338d45857f76",
       "version_major": 2,
       "version_minor": 0
      },
      "text/plain": [
       "HBox(children=(FloatProgress(value=0.0, max=5414.0), HTML(value='')))"
      ]
     },
     "metadata": {},
     "output_type": "display_data"
    },
    {
     "name": "stdout",
     "output_type": "stream",
     "text": [
      "\n"
     ]
    },
    {
     "data": {
      "application/vnd.jupyter.widget-view+json": {
       "model_id": "444e0423deff48db82679bf050c3831c",
       "version_major": 2,
       "version_minor": 0
      },
      "text/plain": [
       "HBox(children=(FloatProgress(value=0.0, max=3844.0), HTML(value='')))"
      ]
     },
     "metadata": {},
     "output_type": "display_data"
    },
    {
     "name": "stdout",
     "output_type": "stream",
     "text": [
      "\n"
     ]
    },
    {
     "data": {
      "application/vnd.jupyter.widget-view+json": {
       "model_id": "74bfcbaaf28947db9b671b3f624ce734",
       "version_major": 2,
       "version_minor": 0
      },
      "text/plain": [
       "HBox(children=(FloatProgress(value=0.0, max=3865.0), HTML(value='')))"
      ]
     },
     "metadata": {},
     "output_type": "display_data"
    },
    {
     "name": "stdout",
     "output_type": "stream",
     "text": [
      "\n"
     ]
    },
    {
     "data": {
      "application/vnd.jupyter.widget-view+json": {
       "model_id": "d6dae757b7f444e29c00ed8232e7754a",
       "version_major": 2,
       "version_minor": 0
      },
      "text/plain": [
       "HBox(children=(FloatProgress(value=0.0, max=3521.0), HTML(value='')))"
      ]
     },
     "metadata": {},
     "output_type": "display_data"
    },
    {
     "name": "stdout",
     "output_type": "stream",
     "text": [
      "\n"
     ]
    },
    {
     "data": {
      "application/vnd.jupyter.widget-view+json": {
       "model_id": "9afac3aaeb4449fa86ed5dd260024270",
       "version_major": 2,
       "version_minor": 0
      },
      "text/plain": [
       "HBox(children=(FloatProgress(value=0.0, max=4114.0), HTML(value='')))"
      ]
     },
     "metadata": {},
     "output_type": "display_data"
    },
    {
     "name": "stdout",
     "output_type": "stream",
     "text": [
      "\n",
      "Wall time: 15min 38s\n"
     ]
    }
   ],
   "source": [
    "%%time\n",
    "from PIL import ImageFilter, Image\n",
    "''' Apply filters to images '''\n",
    "filters = [\n",
    "    ImageFilter.BLUR,\n",
    "    ImageFilter.CONTOUR,\n",
    "    ImageFilter.DETAIL,\n",
    "    ImageFilter.EDGE_ENHANCE,\n",
    "    ImageFilter.EDGE_ENHANCE_MORE,\n",
    "    ImageFilter.EMBOSS,\n",
    "    ImageFilter.FIND_EDGES,\n",
    "    ImageFilter.SMOOTH,\n",
    "    ImageFilter.SMOOTH_MORE,\n",
    "    ImageFilter.SHARPEN\n",
    "]\n",
    "for j in tqdm.tqdm_notebook(range(0, 18)):\n",
    "    FRAMES_PATH = 'data\\\\frames\\\\dfdc_train_part_'+str(j)+'_img\\\\'\n",
    "    files = os.listdir(FRAMES_PATH)\n",
    "    for i in tqdm.tqdm_notebook(range(len(files))):\n",
    "        if files[i] != 'metadata.json':\n",
    "            for fr in filters:\n",
    "                im = Image.open(FRAMES_PATH + files[i])\n",
    "                im = im.filter(fr)\n",
    "                im.save(FRAMES_PATH + '.'.join(files[i].split('.')[:-1]) + '.' + str(fr).split(\"'\")[1].split('.')[-1] +  '.jpg')"
   ]
  },
  {
   "cell_type": "code",
   "execution_count": 26,
   "metadata": {},
   "outputs": [
    {
     "name": "stderr",
     "output_type": "stream",
     "text": [
      "d:\\users\\user\\appdata\\local\\programs\\python\\python36\\lib\\site-packages\\ipykernel_launcher.py:3: TqdmDeprecationWarning: This function will be removed in tqdm==5.0.0\n",
      "Please use `tqdm.notebook.tqdm` instead of `tqdm.tqdm_notebook`\n",
      "  This is separate from the ipykernel package so we can avoid doing imports until\n"
     ]
    },
    {
     "data": {
      "application/vnd.jupyter.widget-view+json": {
       "model_id": "4ad6a454cce1461a8789130aa67ea687",
       "version_major": 2,
       "version_minor": 0
      },
      "text/plain": [
       "HBox(children=(FloatProgress(value=0.0, max=7.0), HTML(value='')))"
      ]
     },
     "metadata": {},
     "output_type": "display_data"
    },
    {
     "name": "stderr",
     "output_type": "stream",
     "text": [
      "d:\\users\\user\\appdata\\local\\programs\\python\\python36\\lib\\site-packages\\ipykernel_launcher.py:6: TqdmDeprecationWarning: This function will be removed in tqdm==5.0.0\n",
      "Please use `tqdm.notebook.tqdm` instead of `tqdm.tqdm_notebook`\n",
      "  \n"
     ]
    },
    {
     "data": {
      "application/vnd.jupyter.widget-view+json": {
       "model_id": "ee4b7b6389404b498a4ac6343fae186c",
       "version_major": 2,
       "version_minor": 0
      },
      "text/plain": [
       "HBox(children=(FloatProgress(value=0.0, max=40517.0), HTML(value='')))"
      ]
     },
     "metadata": {},
     "output_type": "display_data"
    },
    {
     "name": "stdout",
     "output_type": "stream",
     "text": [
      "\n"
     ]
    },
    {
     "data": {
      "application/vnd.jupyter.widget-view+json": {
       "model_id": "7d29c15ff6a6400d8a5d548ea61d02be",
       "version_major": 2,
       "version_minor": 0
      },
      "text/plain": [
       "HBox(children=(FloatProgress(value=0.0, max=38555.0), HTML(value='')))"
      ]
     },
     "metadata": {},
     "output_type": "display_data"
    },
    {
     "name": "stdout",
     "output_type": "stream",
     "text": [
      "\n"
     ]
    },
    {
     "data": {
      "application/vnd.jupyter.widget-view+json": {
       "model_id": "f08d04c6d3dc42d2bc1826bcdfdf7ab1",
       "version_major": 2,
       "version_minor": 0
      },
      "text/plain": [
       "HBox(children=(FloatProgress(value=0.0, max=59554.0), HTML(value='')))"
      ]
     },
     "metadata": {},
     "output_type": "display_data"
    },
    {
     "name": "stdout",
     "output_type": "stream",
     "text": [
      "\n"
     ]
    },
    {
     "data": {
      "application/vnd.jupyter.widget-view+json": {
       "model_id": "b118537dc40c49a1b03817e3a6c015d5",
       "version_major": 2,
       "version_minor": 0
      },
      "text/plain": [
       "HBox(children=(FloatProgress(value=0.0, max=42284.0), HTML(value='')))"
      ]
     },
     "metadata": {},
     "output_type": "display_data"
    },
    {
     "name": "stdout",
     "output_type": "stream",
     "text": [
      "\n"
     ]
    },
    {
     "data": {
      "application/vnd.jupyter.widget-view+json": {
       "model_id": "8f04437cc9414a3793152211b8cbe822",
       "version_major": 2,
       "version_minor": 0
      },
      "text/plain": [
       "HBox(children=(FloatProgress(value=0.0, max=42515.0), HTML(value='')))"
      ]
     },
     "metadata": {},
     "output_type": "display_data"
    },
    {
     "name": "stdout",
     "output_type": "stream",
     "text": [
      "\n"
     ]
    },
    {
     "data": {
      "application/vnd.jupyter.widget-view+json": {
       "model_id": "8c2ba16144f6434a868fe5c3a7bd202a",
       "version_major": 2,
       "version_minor": 0
      },
      "text/plain": [
       "HBox(children=(FloatProgress(value=0.0, max=38731.0), HTML(value='')))"
      ]
     },
     "metadata": {},
     "output_type": "display_data"
    },
    {
     "name": "stdout",
     "output_type": "stream",
     "text": [
      "\n"
     ]
    },
    {
     "data": {
      "application/vnd.jupyter.widget-view+json": {
       "model_id": "13eb9f55fbf943e8b4c9040f7cfad458",
       "version_major": 2,
       "version_minor": 0
      },
      "text/plain": [
       "HBox(children=(FloatProgress(value=0.0, max=45254.0), HTML(value='')))"
      ]
     },
     "metadata": {},
     "output_type": "display_data"
    },
    {
     "name": "stdout",
     "output_type": "stream",
     "text": [
      "\n",
      "\n",
      "Wall time: 37min 2s\n"
     ]
    }
   ],
   "source": [
    "%%time\n",
    "''' Flip images '''\n",
    "from PIL import Image\n",
    "for j in tqdm.tqdm_notebook(range(11, 18)):\n",
    "    FRAMES_PATH = 'data\\\\frames\\\\dfdc_train_part_'+str(j)+'_img\\\\'\n",
    "    files = os.listdir(FRAMES_PATH)\n",
    "    for i in tqdm.tqdm_notebook(range(len(files))):\n",
    "        if files[i] != 'metadata.json':\n",
    "            im = Image.open(FRAMES_PATH + files[i])\n",
    "            im = im.transpose(Image.FLIP_LEFT_RIGHT)\n",
    "            im.save(FRAMES_PATH + '.'.join(files[i].split('.')[:-1]) + '.flip.jpg')"
   ]
  },
  {
   "cell_type": "code",
   "execution_count": 20,
   "metadata": {},
   "outputs": [
    {
     "name": "stdout",
     "output_type": "stream",
     "text": [
      "Wall time: 966 ms\n"
     ]
    }
   ],
   "source": [
    "%%time\n",
    "\n",
    "'''Gather metadata'''\n",
    "\n",
    "FRAMES_PATH = 'data\\\\frames\\\\metadata.csv'\n",
    "y_data = 'name,label'\n",
    "for i in tqdm.tqdm_notebook(range(0, 18)):\n",
    "    DATA_PATH = 'data\\\\train_sets\\\\dfdc_train_part_' + str(i)\n",
    "    for file in os.listdir(DATA_PATH):\n",
    "        if file == 'metadata.json':\n",
    "            with open(DATA_PATH + '\\\\' + file) as r:\n",
    "                parsed = json.loads(r.read())\n",
    "                for name in parsed:\n",
    "                    y_data += '\\n' + name.split('.')[0] + ',' + str(int(parsed[name]['label'] == 'FAKE'))\n",
    "with open(FRAMES_PATH, 'w') as w: \n",
    "    w.write(y_data)"
   ]
  }
 ],
 "metadata": {
  "kernelspec": {
   "display_name": "Python 3",
   "language": "python",
   "name": "python3"
  },
  "language_info": {
   "codemirror_mode": {
    "name": "ipython",
    "version": 3
   },
   "file_extension": ".py",
   "mimetype": "text/x-python",
   "name": "python",
   "nbconvert_exporter": "python",
   "pygments_lexer": "ipython3",
   "version": "3.6.5"
  }
 },
 "nbformat": 4,
 "nbformat_minor": 2
}

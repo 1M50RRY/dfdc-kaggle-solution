{
 "cells": [
  {
   "cell_type": "code",
   "execution_count": 1,
   "metadata": {},
   "outputs": [
    {
     "name": "stderr",
     "output_type": "stream",
     "text": [
      "d:\\users\\user\\appdata\\local\\programs\\python\\python36\\lib\\site-packages\\numpy\\_distributor_init.py:32: UserWarning: loaded more than 1 DLL from .libs:\n",
      "d:\\users\\user\\appdata\\local\\programs\\python\\python36\\lib\\site-packages\\numpy\\.libs\\libopenblas.IPBC74C7KURV7CB2PKT5Z5FNR3SIBV4J.gfortran-win_amd64.dll\n",
      "d:\\users\\user\\appdata\\local\\programs\\python\\python36\\lib\\site-packages\\numpy\\.libs\\libopenblas.PYQHXLVVQ7VESDPUVUADXEVJOBGHJPAY.gfortran-win_amd64.dll\n",
      "  stacklevel=1)\n"
     ]
    }
   ],
   "source": [
    "import random\n",
    "import numpy as np\n",
    "import pandas as pd\n",
    "import json\n",
    "import cv2\n",
    "import os\n",
    "from functools import partial\n",
    "from dataclasses import dataclass\n",
    "from collections import OrderedDict\n",
    "import torchvision\n",
    "from IPython.display import clear_output\n",
    "import matplotlib.pyplot as plt\n",
    "import tqdm\n",
    "import torch\n",
    "from PIL import Image\n",
    "\n",
    "random.seed(0)\n",
    "np.random.seed(0)\n",
    "device = torch.device('cuda:0' if torch.cuda.is_available() else 'cpu')"
   ]
  },
  {
   "cell_type": "code",
   "execution_count": 2,
   "metadata": {},
   "outputs": [],
   "source": [
    "import torch\n",
    "from pipeline.metrics import accuracy_b, log_loss_b\n",
    "from pipeline.image_extracting import extract_faces, FastMTCNN, InceptionResnetV1, process_faces, DetectionPipeline, MTCNN\n",
    "\n",
    "transforms = torchvision.transforms.Compose([\n",
    "    torchvision.transforms.Resize((299, 299)),\n",
    "    torchvision.transforms.ToTensor(),\n",
    "    torchvision.transforms.Normalize((0.5, 0.5, 0.5),(0.5, 0.5, 0.5))\n",
    "    #torchvision.transforms.Normalize(mean=[0.485, 0.456, 0.406], std=[0.229, 0.224, 0.225])\n",
    "])\n",
    "\n",
    "# Load face detector\n",
    "mtcnn = MTCNN(margin=14, keep_all=True, factor=0.5, select_largest=False, device=device).eval()\n",
    "\n",
    "# Load facial recognition model\n",
    "resnet = InceptionResnetV1(pretrained='vggface2', device=device).eval()\n",
    "\n",
    "detection_pipeline = DetectionPipeline(detector=mtcnn, batch_size=60, n_frames=10, resize=0.25)"
   ]
  },
  {
   "cell_type": "code",
   "execution_count": 3,
   "metadata": {
    "scrolled": true
   },
   "outputs": [],
   "source": [
    "y_train = pd.read_csv('data\\\\metadata.csv')"
   ]
  },
  {
   "cell_type": "code",
   "execution_count": 11,
   "metadata": {
    "scrolled": true
   },
   "outputs": [
    {
     "name": "stderr",
     "output_type": "stream",
     "text": [
      "d:\\users\\user\\appdata\\local\\programs\\python\\python36\\lib\\site-packages\\ipykernel_launcher.py:3: TqdmDeprecationWarning: This function will be removed in tqdm==5.0.0\n",
      "Please use `tqdm.notebook.tqdm` instead of `tqdm.tqdm_notebook`\n",
      "  This is separate from the ipykernel package so we can avoid doing imports until\n"
     ]
    },
    {
     "data": {
      "application/vnd.jupyter.widget-view+json": {
       "model_id": "6e36cf66f0b94a8b83f38333e1a5b279",
       "version_major": 2,
       "version_minor": 0
      },
      "text/plain": [
       "HBox(children=(FloatProgress(value=0.0, max=400.0), HTML(value='')))"
      ]
     },
     "metadata": {},
     "output_type": "display_data"
    },
    {
     "name": "stdout",
     "output_type": "stream",
     "text": [
      "\n"
     ]
    }
   ],
   "source": [
    "DATA_PATH = r'D:\\Machine Learning\\deepfake-detection\\data\\validation_set'\n",
    "files = os.listdir(DATA_PATH)\n",
    "for i in tqdm.tqdm_notebook(range(len(files))):\n",
    "    y = y_train[y_train.name == files[i].split('.')[0]].label.values[0]\n",
    "    filename = DATA_PATH + '\\\\' + files[i]\n",
    "    \n",
    "    faces = detection_pipeline(filename)\n",
    "    \n",
    "    #print(len(faces))\n",
    "    data = process_faces(faces, resnet, device, 100)\n",
    "    \n",
    "    with open('data\\\\validate.csv', 'a') as w:\n",
    "        w.write(','.join([str(i) for i in data]) + ',' + str(y) + '\\n')\n",
    "    #break\n",
    "    \n",
    "# < 10 = 0, > 10 = 0"
   ]
  },
  {
   "cell_type": "code",
   "execution_count": 21,
   "metadata": {
    "scrolled": true
   },
   "outputs": [
    {
     "data": {
      "text/plain": [
       "(tensor(0.3251), 0.6931)"
      ]
     },
     "execution_count": 21,
     "metadata": {},
     "output_type": "execute_result"
    }
   ],
   "source": [
    "y0 = torch.tensor([0]*2000 + [1]*2000)\n",
    "y = torch.FloatTensor([0.1]*2400 + [0.9]*1600)\n",
    "log_loss_b(y, y0), 0.6931"
   ]
  },
  {
   "cell_type": "code",
   "execution_count": 14,
   "metadata": {},
   "outputs": [
    {
     "data": {
      "text/plain": [
       "0.9"
      ]
     },
     "execution_count": 14,
     "metadata": {},
     "output_type": "execute_result"
    }
   ],
   "source": [
    "3600 / 4000"
   ]
  },
  {
   "cell_type": "code",
   "execution_count": null,
   "metadata": {},
   "outputs": [],
   "source": [
    "real = 0\n",
    "fake = 0\n",
    "DATA_PATH = 'data\\\\other\\\\frames\\\\faces_155'\n",
    "files = os.listdir(DATA_PATH)\n",
    "for i in tqdm.tqdm_notebook(range(len(files))):\n",
    "    y = y_train[y_train.name == files[i].split('.')[0]].label.values[0]\n",
    "    if real < 2000 and y == 0:\n",
    "        os.rename(DATA_PATH + '\\\\' + files[i], 'data\\\\other\\\\validation_set\\\\real\\\\' + files[i])\n",
    "        real += 1\n",
    "    if fake < 2000 and y == 1:\n",
    "        os.rename(DATA_PATH + '\\\\' + files[i], 'data\\\\other\\\\validation_set\\\\fake\\\\' + files[i])\n",
    "        fake += 1\n",
    "\n",
    "    if fake == 2000 and real == 2000:\n",
    "        print('STOP')"
   ]
  },
  {
   "cell_type": "code",
   "execution_count": null,
   "metadata": {
    "scrolled": true
   },
   "outputs": [],
   "source": [
    "y_train[y_train.name == 'owxbbpjpch'].label.values[0]"
   ]
  },
  {
   "cell_type": "code",
   "execution_count": null,
   "metadata": {},
   "outputs": [],
   "source": [
    "def extract_first_frame(video_path, frames_path, y_train):\n",
    "    filename = video_path.split('\\\\')[-1].split('.')[0]\n",
    "    y = y_train[y_train.name == filename].label.values[0]\n",
    "    if y == 1:\n",
    "        pth = frames_path + filename + '.jpg'\n",
    "        vidcap = cv2.VideoCapture(video_path)\n",
    "        success,image = vidcap.read()\n",
    "        cv2.imwrite(pth, cv2.resize(image, (32,32), interpolation = cv2.INTER_AREA) )  # save frame as JPEG file\n",
    "    else:\n",
    "        vidcap = cv2.VideoCapture(video_path)\n",
    "        for i in range(5):\n",
    "            pth = frames_path + filename + \".\" + str(i) + '.jpg'\n",
    "            success,image = vidcap.read()\n",
    "            cv2.imwrite(pth, cv2.resize(image, (32,32), interpolation = cv2.INTER_AREA) )  # save frame as JPEG file"
   ]
  },
  {
   "cell_type": "code",
   "execution_count": null,
   "metadata": {},
   "outputs": [],
   "source": [
    "%%time\n",
    "'''Extract first frame from each test video'''\n",
    "DATA_PATH = 'data\\\\test_videos'\n",
    "FRAMES_PATH = 'data\\\\test_videos_img\\\\img\\\\'\n",
    "for file in os.listdir(DATA_PATH):\n",
    "    if file != 'metadata.json':\n",
    "        extract_first_frame(DATA_PATH + '\\\\' + file, FRAMES_PATH)"
   ]
  },
  {
   "cell_type": "code",
   "execution_count": null,
   "metadata": {
    "scrolled": true
   },
   "outputs": [],
   "source": [
    "%%time\n",
    "'''Extract first frame from each train video'''\n",
    "for j in tqdm.tqdm_notebook(range(17, 18)):\n",
    "    DATA_PATH = 'data\\\\train_sets\\\\dfdc_train_part_' + str(j)\n",
    "    FRAMES_PATH = 'data\\\\frames\\\\dfdc_train_part_'+str(j)+'_img\\\\'\n",
    "    files = os.listdir(DATA_PATH)\n",
    "    for i in tqdm.tqdm_notebook(range(len(files))):\n",
    "        if files[i] != 'metadata.json':\n",
    "            extract_first_frame(DATA_PATH + '\\\\' + files[i], FRAMES_PATH, y_train)"
   ]
  },
  {
   "cell_type": "code",
   "execution_count": null,
   "metadata": {
    "scrolled": true
   },
   "outputs": [],
   "source": [
    "%%time\n",
    "from PIL import ImageFilter, Image\n",
    "''' Apply filters to images '''\n",
    "filters = [\n",
    "    ImageFilter.BLUR,\n",
    "    ImageFilter.CONTOUR,\n",
    "    ImageFilter.DETAIL,\n",
    "    ImageFilter.EDGE_ENHANCE,\n",
    "    ImageFilter.EDGE_ENHANCE_MORE,\n",
    "    ImageFilter.EMBOSS,\n",
    "    ImageFilter.FIND_EDGES,\n",
    "    ImageFilter.SMOOTH,\n",
    "    ImageFilter.SMOOTH_MORE,\n",
    "    ImageFilter.SHARPEN\n",
    "]\n",
    "for j in tqdm.tqdm_notebook(range(0, 18)):\n",
    "    FRAMES_PATH = 'data\\\\frames\\\\dfdc_train_part_'+str(j)+'_img\\\\'\n",
    "    files = os.listdir(FRAMES_PATH)\n",
    "    for i in tqdm.tqdm_notebook(range(len(files))):\n",
    "        if files[i] != 'metadata.json':\n",
    "            for fr in filters:\n",
    "                im = Image.open(FRAMES_PATH + files[i])\n",
    "                im = im.filter(fr)\n",
    "                im.save(FRAMES_PATH + '.'.join(files[i].split('.')[:-1]) + '.' + str(fr).split(\"'\")[1].split('.')[-1] +  '.jpg')"
   ]
  },
  {
   "cell_type": "code",
   "execution_count": null,
   "metadata": {},
   "outputs": [],
   "source": [
    "%%time\n",
    "''' Flip images '''\n",
    "from PIL import Image\n",
    "for j in tqdm.tqdm_notebook(range(11, 18)):\n",
    "    FRAMES_PATH = 'data\\\\frames\\\\dfdc_train_part_'+str(j)+'_img\\\\'\n",
    "    files = os.listdir(FRAMES_PATH)\n",
    "    for i in tqdm.tqdm_notebook(range(len(files))):\n",
    "        if files[i] != 'metadata.json':\n",
    "            im = Image.open(FRAMES_PATH + files[i])\n",
    "            im = im.transpose(Image.FLIP_LEFT_RIGHT)\n",
    "            im.save(FRAMES_PATH + '.'.join(files[i].split('.')[:-1]) + '.flip.jpg')"
   ]
  },
  {
   "cell_type": "code",
   "execution_count": null,
   "metadata": {},
   "outputs": [],
   "source": [
    "%%time\n",
    "\n",
    "'''Gather metadata'''\n",
    "\n",
    "FRAMES_PATH = 'data\\\\frames\\\\metadata.csv'\n",
    "y_data = 'name,label'\n",
    "for i in tqdm.tqdm_notebook(range(0, 18)):\n",
    "    DATA_PATH = 'data\\\\train_sets\\\\dfdc_train_part_' + str(i)\n",
    "    for file in os.listdir(DATA_PATH):\n",
    "        if file == 'metadata.json':\n",
    "            with open(DATA_PATH + '\\\\' + file) as r:\n",
    "                parsed = json.loads(r.read())\n",
    "                for name in parsed:\n",
    "                    y_data += '\\n' + name.split('.')[0] + ',' + str(int(parsed[name]['label'] == 'FAKE'))\n",
    "with open(FRAMES_PATH, 'w') as w: \n",
    "    w.write(y_data)"
   ]
  }
 ],
 "metadata": {
  "kernelspec": {
   "display_name": "Python 3",
   "language": "python",
   "name": "python3"
  },
  "language_info": {
   "codemirror_mode": {
    "name": "ipython",
    "version": 3
   },
   "file_extension": ".py",
   "mimetype": "text/x-python",
   "name": "python",
   "nbconvert_exporter": "python",
   "pygments_lexer": "ipython3",
   "version": "3.6.5"
  }
 },
 "nbformat": 4,
 "nbformat_minor": 2
}

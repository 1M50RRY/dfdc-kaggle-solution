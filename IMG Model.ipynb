{
 "cells": [
  {
   "cell_type": "code",
   "execution_count": 1,
   "metadata": {
    "scrolled": true
   },
   "outputs": [
    {
     "name": "stderr",
     "output_type": "stream",
     "text": [
      "d:\\users\\user\\appdata\\local\\programs\\python\\python36\\lib\\site-packages\\numpy\\_distributor_init.py:32: UserWarning: loaded more than 1 DLL from .libs:\n",
      "d:\\users\\user\\appdata\\local\\programs\\python\\python36\\lib\\site-packages\\numpy\\.libs\\libopenblas.IPBC74C7KURV7CB2PKT5Z5FNR3SIBV4J.gfortran-win_amd64.dll\n",
      "d:\\users\\user\\appdata\\local\\programs\\python\\python36\\lib\\site-packages\\numpy\\.libs\\libopenblas.PYQHXLVVQ7VESDPUVUADXEVJOBGHJPAY.gfortran-win_amd64.dll\n",
      "  stacklevel=1)\n",
      "alchemy not available, to install alchemy, run `pip install alchemy-catalyst`.\n"
     ]
    }
   ],
   "source": [
    "import torch\n",
    "import torch.nn as nn\n",
    "import random\n",
    "import numpy as np\n",
    "import pandas as pd\n",
    "import json\n",
    "import cv2\n",
    "import os\n",
    "from sklearn import preprocessing\n",
    "from sklearn.model_selection import train_test_split\n",
    "from functools import partial\n",
    "from dataclasses import dataclass\n",
    "from collections import OrderedDict\n",
    "import torchvision\n",
    "from IPython.display import clear_output\n",
    "import matplotlib.pyplot as plt\n",
    "import tqdm\n",
    "from PIL import ImageFilter, Image\n",
    "import torchvision.models as models\n",
    "import pretrainedmodels as ptmodels\n",
    "import torch.nn as nn\n",
    "import torch.nn.functional as F\n",
    "import math\n",
    "#import torch.utils.model_zoo as model_zoo\n",
    "from torch.nn import init\n",
    "\n",
    "from network.meso import Meso4, MesoInception4\n",
    "from network.models import model_selection\n",
    "\n",
    "#from ff import model_selection\n",
    "from pipeline.metrics import accuracy_b, log_loss\n",
    "from pipeline.model_methods import validate_img, train_img\n",
    "from pipeline.data_loaders import load_img_dataset, load_img_val_dataset, strong_aug\n",
    "from pipeline.image_extracting import extract_faces, FastMTCNN\n",
    "\n",
    "from pipeline.metrics import accuracy_sigmoid, accuracy_sigmoid_mean, log_loss_sigmoid, log_loss_b, accuracy_b_mean\n",
    "from pipeline.image_extracting import extract_faces, FastMTCNN, InceptionResnetV1, extract_faces_dlib, MTCNN\n",
    "from pipeline.blazeface import BlazeFace\n",
    "from network.lstm_deepfake import LSTMDF\n",
    "\n",
    "from efficientnet_pytorch import EfficientNet\n",
    "\n",
    "from pytorchcv.model_provider import get_model\n",
    "import timm\n",
    "from catalyst.dl import SupervisedRunner\n",
    "from catalyst.contrib.nn import OneCycleLRWithWarmup\n",
    "\n",
    "\n",
    "random.seed(0)\n",
    "np.random.seed(0)\n",
    "torch.manual_seed(0)\n",
    "torch.cuda.manual_seed(0)\n",
    "torch.backends.cudnn.deterministic = True\n",
    "PATH = \"model.h5\"\n",
    "device = torch.device('cuda:0' if torch.cuda.is_available() else 'cpu')"
   ]
  },
  {
   "cell_type": "code",
   "execution_count": 2,
   "metadata": {
    "scrolled": true
   },
   "outputs": [
    {
     "data": {
      "text/plain": [
       "(100000, 19154)"
      ]
     },
     "execution_count": 2,
     "metadata": {},
     "output_type": "execute_result"
    }
   ],
   "source": [
    "y_train = pd.read_csv(r'data\\metadata.csv')\n",
    "len(y_train[y_train.label == 1]), len(y_train[y_train.label == 0])"
   ]
  },
  {
   "cell_type": "code",
   "execution_count": 3,
   "metadata": {
    "scrolled": true
   },
   "outputs": [],
   "source": [
    "#%%script false\n",
    "\n",
    "batch_size = 32\n",
    "\n",
    "x_train = load_img_dataset(r'data\\least', batch_size, resize=None, crop=224, num_samples=100000)\n",
    "x_val = load_img_val_dataset(r'data\\img_val', batch_size)"
   ]
  },
  {
   "cell_type": "code",
   "execution_count": 4,
   "metadata": {},
   "outputs": [
    {
     "name": "stdout",
     "output_type": "stream",
     "text": [
      "Loaded pretrained weights for efficientnet-b0\n"
     ]
    }
   ],
   "source": [
    "#model = EfficientNet.from_name('efficientnet-b0')\n",
    "model = EfficientNet.from_pretrained('efficientnet-b0', num_classes=1)\n",
    "\n",
    "#model = timm.create_model('tf_efficientnet_b1_ns', pretrained=True)\n",
    "#model.classifier = nn.Linear(model.classifier.in_features, 1)\n",
    "\n",
    "#model = get_model(\"resnet18\", pretrained=True)\n",
    "#model = models.resnext50_32x4d(pretrained=True) \n",
    "#model =  models.resnext101_32x8d(pretrained=True) \n",
    "#model =  MyResNeXt()\n",
    "#model = models.resnet18(pretrained=True)\n",
    "#model._fc = nn.Linear(model._fc.in_features, 1)\n",
    "#model.fc = nn.Linear(model.fc.in_features, 1)"
   ]
  },
  {
   "cell_type": "code",
   "execution_count": 5,
   "metadata": {},
   "outputs": [
    {
     "name": "stdout",
     "output_type": "stream",
     "text": [
      "Couldn't find program: 'false'\n"
     ]
    }
   ],
   "source": [
    "%%script false\n",
    "found = False\n",
    "for child in model.named_parameters():  \n",
    "    #'''\n",
    "    if child[0] == 'layer4.0.conv2.weight':\n",
    "        found = True\n",
    "    #'''\n",
    "    child[1].requires_grad = found"
   ]
  },
  {
   "cell_type": "code",
   "execution_count": 6,
   "metadata": {
    "scrolled": true
   },
   "outputs": [],
   "source": [
    "model = model.to(device)\n",
    "epochs = 10\n",
    "#optimizer = torch.optim.RMSprop(model.parameters(), lr=0.1)\n",
    "#optimizer = torch.optim.AdamW(model.parameters(), lr=0.001, weight_decay=0.) \n",
    "optimizer = torch.optim.Adam(model.parameters(), lr=0.001, weight_decay=0.) \n",
    "#optimizer = torch.optim.SGD(model.parameters(), lr=0.01, momentum=0.9)\n",
    "\n",
    "#scheduler = torch.optim.lr_scheduler.CyclicLR(optimizer, 0.001, 0.0001)\n",
    "scheduler = torch.optim.lr_scheduler.StepLR(optimizer, step_size=2, gamma=0.1)\n",
    "#scheduler = torch.optim.lr_scheduler.OneCycleLR(optimizer, max_lr=1e-3, steps_per_epoch=len(x_train), epochs=epochs)\n",
    "\n",
    "#scheduler = torch.optim.lr_scheduler.LambdaLR(optimizer, lr_lambda=[lambda epoch: epoch // 30, lambda epoch: 0.95 ** epoch], last_epoch=-1)"
   ]
  },
  {
   "cell_type": "code",
   "execution_count": 7,
   "metadata": {
    "scrolled": true
   },
   "outputs": [
    {
     "data": {
      "text/plain": [
       "['_conv_stem.weight',\n",
       " '_bn0.weight',\n",
       " '_bn0.bias',\n",
       " '_blocks.0._depthwise_conv.weight',\n",
       " '_blocks.0._bn1.weight',\n",
       " '_blocks.0._bn1.bias',\n",
       " '_blocks.0._se_reduce.weight',\n",
       " '_blocks.0._se_reduce.bias',\n",
       " '_blocks.0._se_expand.weight',\n",
       " '_blocks.0._se_expand.bias',\n",
       " '_blocks.0._project_conv.weight',\n",
       " '_blocks.0._bn2.weight',\n",
       " '_blocks.0._bn2.bias',\n",
       " '_blocks.1._expand_conv.weight',\n",
       " '_blocks.1._bn0.weight',\n",
       " '_blocks.1._bn0.bias',\n",
       " '_blocks.1._depthwise_conv.weight',\n",
       " '_blocks.1._bn1.weight',\n",
       " '_blocks.1._bn1.bias',\n",
       " '_blocks.1._se_reduce.weight',\n",
       " '_blocks.1._se_reduce.bias',\n",
       " '_blocks.1._se_expand.weight',\n",
       " '_blocks.1._se_expand.bias',\n",
       " '_blocks.1._project_conv.weight',\n",
       " '_blocks.1._bn2.weight',\n",
       " '_blocks.1._bn2.bias',\n",
       " '_blocks.2._expand_conv.weight',\n",
       " '_blocks.2._bn0.weight',\n",
       " '_blocks.2._bn0.bias',\n",
       " '_blocks.2._depthwise_conv.weight',\n",
       " '_blocks.2._bn1.weight',\n",
       " '_blocks.2._bn1.bias',\n",
       " '_blocks.2._se_reduce.weight',\n",
       " '_blocks.2._se_reduce.bias',\n",
       " '_blocks.2._se_expand.weight',\n",
       " '_blocks.2._se_expand.bias',\n",
       " '_blocks.2._project_conv.weight',\n",
       " '_blocks.2._bn2.weight',\n",
       " '_blocks.2._bn2.bias',\n",
       " '_blocks.3._expand_conv.weight',\n",
       " '_blocks.3._bn0.weight',\n",
       " '_blocks.3._bn0.bias',\n",
       " '_blocks.3._depthwise_conv.weight',\n",
       " '_blocks.3._bn1.weight',\n",
       " '_blocks.3._bn1.bias',\n",
       " '_blocks.3._se_reduce.weight',\n",
       " '_blocks.3._se_reduce.bias',\n",
       " '_blocks.3._se_expand.weight',\n",
       " '_blocks.3._se_expand.bias',\n",
       " '_blocks.3._project_conv.weight',\n",
       " '_blocks.3._bn2.weight',\n",
       " '_blocks.3._bn2.bias',\n",
       " '_blocks.4._expand_conv.weight',\n",
       " '_blocks.4._bn0.weight',\n",
       " '_blocks.4._bn0.bias',\n",
       " '_blocks.4._depthwise_conv.weight',\n",
       " '_blocks.4._bn1.weight',\n",
       " '_blocks.4._bn1.bias',\n",
       " '_blocks.4._se_reduce.weight',\n",
       " '_blocks.4._se_reduce.bias',\n",
       " '_blocks.4._se_expand.weight',\n",
       " '_blocks.4._se_expand.bias',\n",
       " '_blocks.4._project_conv.weight',\n",
       " '_blocks.4._bn2.weight',\n",
       " '_blocks.4._bn2.bias',\n",
       " '_blocks.5._expand_conv.weight',\n",
       " '_blocks.5._bn0.weight',\n",
       " '_blocks.5._bn0.bias',\n",
       " '_blocks.5._depthwise_conv.weight',\n",
       " '_blocks.5._bn1.weight',\n",
       " '_blocks.5._bn1.bias',\n",
       " '_blocks.5._se_reduce.weight',\n",
       " '_blocks.5._se_reduce.bias',\n",
       " '_blocks.5._se_expand.weight',\n",
       " '_blocks.5._se_expand.bias',\n",
       " '_blocks.5._project_conv.weight',\n",
       " '_blocks.5._bn2.weight',\n",
       " '_blocks.5._bn2.bias',\n",
       " '_blocks.6._expand_conv.weight',\n",
       " '_blocks.6._bn0.weight',\n",
       " '_blocks.6._bn0.bias',\n",
       " '_blocks.6._depthwise_conv.weight',\n",
       " '_blocks.6._bn1.weight',\n",
       " '_blocks.6._bn1.bias',\n",
       " '_blocks.6._se_reduce.weight',\n",
       " '_blocks.6._se_reduce.bias',\n",
       " '_blocks.6._se_expand.weight',\n",
       " '_blocks.6._se_expand.bias',\n",
       " '_blocks.6._project_conv.weight',\n",
       " '_blocks.6._bn2.weight',\n",
       " '_blocks.6._bn2.bias',\n",
       " '_blocks.7._expand_conv.weight',\n",
       " '_blocks.7._bn0.weight',\n",
       " '_blocks.7._bn0.bias',\n",
       " '_blocks.7._depthwise_conv.weight',\n",
       " '_blocks.7._bn1.weight',\n",
       " '_blocks.7._bn1.bias',\n",
       " '_blocks.7._se_reduce.weight',\n",
       " '_blocks.7._se_reduce.bias',\n",
       " '_blocks.7._se_expand.weight',\n",
       " '_blocks.7._se_expand.bias',\n",
       " '_blocks.7._project_conv.weight',\n",
       " '_blocks.7._bn2.weight',\n",
       " '_blocks.7._bn2.bias',\n",
       " '_blocks.8._expand_conv.weight',\n",
       " '_blocks.8._bn0.weight',\n",
       " '_blocks.8._bn0.bias',\n",
       " '_blocks.8._depthwise_conv.weight',\n",
       " '_blocks.8._bn1.weight',\n",
       " '_blocks.8._bn1.bias',\n",
       " '_blocks.8._se_reduce.weight',\n",
       " '_blocks.8._se_reduce.bias',\n",
       " '_blocks.8._se_expand.weight',\n",
       " '_blocks.8._se_expand.bias',\n",
       " '_blocks.8._project_conv.weight',\n",
       " '_blocks.8._bn2.weight',\n",
       " '_blocks.8._bn2.bias',\n",
       " '_blocks.9._expand_conv.weight',\n",
       " '_blocks.9._bn0.weight',\n",
       " '_blocks.9._bn0.bias',\n",
       " '_blocks.9._depthwise_conv.weight',\n",
       " '_blocks.9._bn1.weight',\n",
       " '_blocks.9._bn1.bias',\n",
       " '_blocks.9._se_reduce.weight',\n",
       " '_blocks.9._se_reduce.bias',\n",
       " '_blocks.9._se_expand.weight',\n",
       " '_blocks.9._se_expand.bias',\n",
       " '_blocks.9._project_conv.weight',\n",
       " '_blocks.9._bn2.weight',\n",
       " '_blocks.9._bn2.bias',\n",
       " '_blocks.10._expand_conv.weight',\n",
       " '_blocks.10._bn0.weight',\n",
       " '_blocks.10._bn0.bias',\n",
       " '_blocks.10._depthwise_conv.weight',\n",
       " '_blocks.10._bn1.weight',\n",
       " '_blocks.10._bn1.bias',\n",
       " '_blocks.10._se_reduce.weight',\n",
       " '_blocks.10._se_reduce.bias',\n",
       " '_blocks.10._se_expand.weight',\n",
       " '_blocks.10._se_expand.bias',\n",
       " '_blocks.10._project_conv.weight',\n",
       " '_blocks.10._bn2.weight',\n",
       " '_blocks.10._bn2.bias',\n",
       " '_blocks.11._expand_conv.weight',\n",
       " '_blocks.11._bn0.weight',\n",
       " '_blocks.11._bn0.bias',\n",
       " '_blocks.11._depthwise_conv.weight',\n",
       " '_blocks.11._bn1.weight',\n",
       " '_blocks.11._bn1.bias',\n",
       " '_blocks.11._se_reduce.weight',\n",
       " '_blocks.11._se_reduce.bias',\n",
       " '_blocks.11._se_expand.weight',\n",
       " '_blocks.11._se_expand.bias',\n",
       " '_blocks.11._project_conv.weight',\n",
       " '_blocks.11._bn2.weight',\n",
       " '_blocks.11._bn2.bias',\n",
       " '_blocks.12._expand_conv.weight',\n",
       " '_blocks.12._bn0.weight',\n",
       " '_blocks.12._bn0.bias',\n",
       " '_blocks.12._depthwise_conv.weight',\n",
       " '_blocks.12._bn1.weight',\n",
       " '_blocks.12._bn1.bias',\n",
       " '_blocks.12._se_reduce.weight',\n",
       " '_blocks.12._se_reduce.bias',\n",
       " '_blocks.12._se_expand.weight',\n",
       " '_blocks.12._se_expand.bias',\n",
       " '_blocks.12._project_conv.weight',\n",
       " '_blocks.12._bn2.weight',\n",
       " '_blocks.12._bn2.bias',\n",
       " '_blocks.13._expand_conv.weight',\n",
       " '_blocks.13._bn0.weight',\n",
       " '_blocks.13._bn0.bias',\n",
       " '_blocks.13._depthwise_conv.weight',\n",
       " '_blocks.13._bn1.weight',\n",
       " '_blocks.13._bn1.bias',\n",
       " '_blocks.13._se_reduce.weight',\n",
       " '_blocks.13._se_reduce.bias',\n",
       " '_blocks.13._se_expand.weight',\n",
       " '_blocks.13._se_expand.bias',\n",
       " '_blocks.13._project_conv.weight',\n",
       " '_blocks.13._bn2.weight',\n",
       " '_blocks.13._bn2.bias',\n",
       " '_blocks.14._expand_conv.weight',\n",
       " '_blocks.14._bn0.weight',\n",
       " '_blocks.14._bn0.bias',\n",
       " '_blocks.14._depthwise_conv.weight',\n",
       " '_blocks.14._bn1.weight',\n",
       " '_blocks.14._bn1.bias',\n",
       " '_blocks.14._se_reduce.weight',\n",
       " '_blocks.14._se_reduce.bias',\n",
       " '_blocks.14._se_expand.weight',\n",
       " '_blocks.14._se_expand.bias',\n",
       " '_blocks.14._project_conv.weight',\n",
       " '_blocks.14._bn2.weight',\n",
       " '_blocks.14._bn2.bias',\n",
       " '_blocks.15._expand_conv.weight',\n",
       " '_blocks.15._bn0.weight',\n",
       " '_blocks.15._bn0.bias',\n",
       " '_blocks.15._depthwise_conv.weight',\n",
       " '_blocks.15._bn1.weight',\n",
       " '_blocks.15._bn1.bias',\n",
       " '_blocks.15._se_reduce.weight',\n",
       " '_blocks.15._se_reduce.bias',\n",
       " '_blocks.15._se_expand.weight',\n",
       " '_blocks.15._se_expand.bias',\n",
       " '_blocks.15._project_conv.weight',\n",
       " '_blocks.15._bn2.weight',\n",
       " '_blocks.15._bn2.bias',\n",
       " '_conv_head.weight',\n",
       " '_bn1.weight',\n",
       " '_bn1.bias',\n",
       " '_fc.weight',\n",
       " '_fc.bias']"
      ]
     },
     "execution_count": 7,
     "metadata": {},
     "output_type": "execute_result"
    }
   ],
   "source": [
    "[i[0] for i in model.named_parameters() if i[1].requires_grad]"
   ]
  },
  {
   "cell_type": "code",
   "execution_count": 8,
   "metadata": {
    "scrolled": true
   },
   "outputs": [
    {
     "data": {
      "application/vnd.jupyter.widget-view+json": {
       "model_id": "d627a95d824b47dab01662361485e85e",
       "version_major": 2,
       "version_minor": 0
      },
      "text/plain": [
       "HBox(children=(FloatProgress(value=0.0, max=10.0), HTML(value='')))"
      ]
     },
     "metadata": {},
     "output_type": "display_data"
    },
    {
     "data": {
      "application/vnd.jupyter.widget-view+json": {
       "model_id": "a9787ba06b814302a5de74fc3d61fefa",
       "version_major": 2,
       "version_minor": 0
      },
      "text/plain": [
       "HBox(children=(FloatProgress(value=0.0, max=3125.0), HTML(value='')))"
      ]
     },
     "metadata": {},
     "output_type": "display_data"
    },
    {
     "name": "stdout",
     "output_type": "stream",
     "text": [
      "\n"
     ]
    },
    {
     "data": {
      "application/vnd.jupyter.widget-view+json": {
       "model_id": "6446fa3f9f0e4f238337ac1799ccac17",
       "version_major": 2,
       "version_minor": 0
      },
      "text/plain": [
       "HBox(children=(FloatProgress(value=0.0, max=727.0), HTML(value='')))"
      ]
     },
     "metadata": {},
     "output_type": "display_data"
    },
    {
     "name": "stdout",
     "output_type": "stream",
     "text": [
      "\n",
      "Validation: metrics  0.7974275144110815 loss  0.4415668336651512\n",
      "Train: metrics  0.76877 loss  0.4601346098613739\n",
      "Expected LB value: 0.5238468336651512 0.5320082333315075\n",
      "Epoch: 1\n"
     ]
    },
    {
     "data": {
      "application/vnd.jupyter.widget-view+json": {
       "model_id": "b822a779e2234a10876b0440bfb45421",
       "version_major": 2,
       "version_minor": 0
      },
      "text/plain": [
       "HBox(children=(FloatProgress(value=0.0, max=3125.0), HTML(value='')))"
      ]
     },
     "metadata": {},
     "output_type": "display_data"
    },
    {
     "name": "stdout",
     "output_type": "stream",
     "text": [
      "\n"
     ]
    },
    {
     "data": {
      "application/vnd.jupyter.widget-view+json": {
       "model_id": "2bba0d1f16964b3abae0e07ed35ed521",
       "version_major": 2,
       "version_minor": 0
      },
      "text/plain": [
       "HBox(children=(FloatProgress(value=0.0, max=727.0), HTML(value='')))"
      ]
     },
     "metadata": {},
     "output_type": "display_data"
    },
    {
     "name": "stdout",
     "output_type": "stream",
     "text": [
      "\n",
      "Validation: metrics  0.8179901918609653 loss  0.40540672625521357\n",
      "Train: metrics  0.86093 loss  0.3081786439466476\n",
      "Expected LB value: 0.4876867262552136 0.4884418388617031\n",
      "Epoch: 2\n"
     ]
    },
    {
     "data": {
      "application/vnd.jupyter.widget-view+json": {
       "model_id": "1472838d3ef24f04b4d72639444a8c18",
       "version_major": 2,
       "version_minor": 0
      },
      "text/plain": [
       "HBox(children=(FloatProgress(value=0.0, max=3125.0), HTML(value='')))"
      ]
     },
     "metadata": {},
     "output_type": "display_data"
    },
    {
     "name": "stdout",
     "output_type": "stream",
     "text": [
      "\n"
     ]
    },
    {
     "data": {
      "application/vnd.jupyter.widget-view+json": {
       "model_id": "275be0be00bc41869929bd911db5de16",
       "version_major": 2,
       "version_minor": 0
      },
      "text/plain": [
       "HBox(children=(FloatProgress(value=0.0, max=727.0), HTML(value='')))"
      ]
     },
     "metadata": {},
     "output_type": "display_data"
    },
    {
     "name": "stdout",
     "output_type": "stream",
     "text": [
      "\n",
      "Validation: metrics  0.828615675815194 loss  0.40977029181617164\n",
      "Train: metrics  0.88841 loss  0.25674152747750284\n",
      "Expected LB value: 0.49205029181617166 0.4936991467664718\n",
      "Epoch: 3\n"
     ]
    },
    {
     "data": {
      "application/vnd.jupyter.widget-view+json": {
       "model_id": "6bc8493f4320443fa4925af26fec83eb",
       "version_major": 2,
       "version_minor": 0
      },
      "text/plain": [
       "HBox(children=(FloatProgress(value=0.0, max=3125.0), HTML(value='')))"
      ]
     },
     "metadata": {},
     "output_type": "display_data"
    },
    {
     "name": "stdout",
     "output_type": "stream",
     "text": [
      "\n"
     ]
    },
    {
     "data": {
      "application/vnd.jupyter.widget-view+json": {
       "model_id": "4df0f48a02334f408b00bfb097c44348",
       "version_major": 2,
       "version_minor": 0
      },
      "text/plain": [
       "HBox(children=(FloatProgress(value=0.0, max=727.0), HTML(value='')))"
      ]
     },
     "metadata": {},
     "output_type": "display_data"
    },
    {
     "name": "stdout",
     "output_type": "stream",
     "text": [
      "\n",
      "Validation: metrics  0.8063322722188764 loss  0.5165050580195745\n",
      "Train: metrics  0.90227 loss  0.22803649896621703\n",
      "Expected LB value: 0.5987850580195745 0.6222952506259933\n",
      "Epoch: 4\n"
     ]
    },
    {
     "data": {
      "application/vnd.jupyter.widget-view+json": {
       "model_id": "40f5946d630f4fef908d4d728601b6d7",
       "version_major": 2,
       "version_minor": 0
      },
      "text/plain": [
       "HBox(children=(FloatProgress(value=0.0, max=3125.0), HTML(value='')))"
      ]
     },
     "metadata": {},
     "output_type": "display_data"
    },
    {
     "ename": "KeyboardInterrupt",
     "evalue": "",
     "output_type": "error",
     "traceback": [
      "\u001b[1;31m---------------------------------------------------------------------------\u001b[0m",
      "\u001b[1;31mKeyboardInterrupt\u001b[0m                         Traceback (most recent call last)",
      "\u001b[1;32m<ipython-input-8-f53f56293d83>\u001b[0m in \u001b[0;36m<module>\u001b[1;34m\u001b[0m\n\u001b[0;32m      8\u001b[0m                          \u001b[0mbatch_size\u001b[0m\u001b[1;33m=\u001b[0m\u001b[0mbatch_size\u001b[0m\u001b[1;33m,\u001b[0m\u001b[1;33m\u001b[0m\u001b[0m\n\u001b[0;32m      9\u001b[0m                          \u001b[0museScheduler\u001b[0m\u001b[1;33m=\u001b[0m\u001b[1;32mFalse\u001b[0m\u001b[1;33m,\u001b[0m\u001b[1;33m\u001b[0m\u001b[0m\n\u001b[1;32m---> 10\u001b[1;33m                          \u001b[0mcheckpoint\u001b[0m\u001b[1;33m=\u001b[0m\u001b[1;36m0.35\u001b[0m\u001b[1;33m\u001b[0m\u001b[0m\n\u001b[0m\u001b[0;32m     11\u001b[0m                         )\n",
      "\u001b[1;32m~\\Desktop\\Projects\\dfdc-kaggle-solution\\pipeline\\model_methods.py\u001b[0m in \u001b[0;36mtrain_img\u001b[1;34m(net, optimizer, scheduler, X_train, X_test, y_train, metric, device, val_metric, epochs, batch_size, useScheduler, checkpoint)\u001b[0m\n\u001b[0;32m     92\u001b[0m                     \u001b[0mpreds\u001b[0m \u001b[1;33m=\u001b[0m \u001b[0mnet\u001b[0m\u001b[1;33m(\u001b[0m\u001b[0mX_batch\u001b[0m\u001b[1;33m.\u001b[0m\u001b[0mto\u001b[0m\u001b[1;33m(\u001b[0m\u001b[0mdevice\u001b[0m\u001b[1;33m)\u001b[0m\u001b[1;33m)\u001b[0m\u001b[1;33m\u001b[0m\u001b[0m\n\u001b[0;32m     93\u001b[0m \u001b[1;33m\u001b[0m\u001b[0m\n\u001b[1;32m---> 94\u001b[1;33m                     \u001b[0mmetrics\u001b[0m \u001b[1;33m=\u001b[0m \u001b[0mmetric\u001b[0m\u001b[1;33m(\u001b[0m\u001b[0mtorch\u001b[0m\u001b[1;33m.\u001b[0m\u001b[0msigmoid\u001b[0m\u001b[1;33m(\u001b[0m\u001b[0mpreds\u001b[0m\u001b[1;33m)\u001b[0m\u001b[1;33m,\u001b[0m \u001b[0my_batch\u001b[0m\u001b[1;33m)\u001b[0m\u001b[1;33m\u001b[0m\u001b[0m\n\u001b[0m\u001b[0;32m     95\u001b[0m                     \u001b[0mtrain_metrics\u001b[0m\u001b[1;33m.\u001b[0m\u001b[0mappend\u001b[0m\u001b[1;33m(\u001b[0m\u001b[0mmetrics\u001b[0m\u001b[1;33m)\u001b[0m\u001b[1;33m\u001b[0m\u001b[0m\n\u001b[0;32m     96\u001b[0m \u001b[1;33m\u001b[0m\u001b[0m\n",
      "\u001b[1;32m~\\Desktop\\Projects\\dfdc-kaggle-solution\\pipeline\\metrics.py\u001b[0m in \u001b[0;36maccuracy_b\u001b[1;34m(y, y0)\u001b[0m\n\u001b[0;32m     30\u001b[0m \u001b[1;33m\u001b[0m\u001b[0m\n\u001b[0;32m     31\u001b[0m \u001b[1;32mdef\u001b[0m \u001b[0maccuracy_b\u001b[0m\u001b[1;33m(\u001b[0m\u001b[0my\u001b[0m\u001b[1;33m,\u001b[0m \u001b[0my0\u001b[0m\u001b[1;33m)\u001b[0m\u001b[1;33m:\u001b[0m\u001b[1;33m\u001b[0m\u001b[0m\n\u001b[1;32m---> 32\u001b[1;33m     \u001b[0my\u001b[0m \u001b[1;33m=\u001b[0m \u001b[0my\u001b[0m\u001b[1;33m.\u001b[0m\u001b[0mdetach\u001b[0m\u001b[1;33m(\u001b[0m\u001b[1;33m)\u001b[0m\u001b[1;33m.\u001b[0m\u001b[0mcpu\u001b[0m\u001b[1;33m(\u001b[0m\u001b[1;33m)\u001b[0m\u001b[1;33m.\u001b[0m\u001b[0mnumpy\u001b[0m\u001b[1;33m(\u001b[0m\u001b[1;33m)\u001b[0m\u001b[1;33m\u001b[0m\u001b[0m\n\u001b[0m\u001b[0;32m     33\u001b[0m     \u001b[0my0\u001b[0m \u001b[1;33m=\u001b[0m \u001b[0my0\u001b[0m\u001b[1;33m.\u001b[0m\u001b[0mdetach\u001b[0m\u001b[1;33m(\u001b[0m\u001b[1;33m)\u001b[0m\u001b[1;33m.\u001b[0m\u001b[0mcpu\u001b[0m\u001b[1;33m(\u001b[0m\u001b[1;33m)\u001b[0m\u001b[1;33m.\u001b[0m\u001b[0mnumpy\u001b[0m\u001b[1;33m(\u001b[0m\u001b[1;33m)\u001b[0m\u001b[1;33m\u001b[0m\u001b[0m\n\u001b[0;32m     34\u001b[0m     \u001b[1;32mreturn\u001b[0m \u001b[1;33m[\u001b[0m\u001b[1;36m1\u001b[0m \u001b[1;32mif\u001b[0m \u001b[0mround\u001b[0m\u001b[1;33m(\u001b[0m\u001b[0mfloat\u001b[0m\u001b[1;33m(\u001b[0m\u001b[0my_i\u001b[0m\u001b[1;33m[\u001b[0m\u001b[1;36m0\u001b[0m\u001b[1;33m]\u001b[0m\u001b[1;33m)\u001b[0m\u001b[1;33m)\u001b[0m \u001b[1;33m==\u001b[0m \u001b[0mfloat\u001b[0m\u001b[1;33m(\u001b[0m\u001b[0my0_i\u001b[0m\u001b[1;33m[\u001b[0m\u001b[1;36m0\u001b[0m\u001b[1;33m]\u001b[0m\u001b[1;33m)\u001b[0m \u001b[1;32melse\u001b[0m \u001b[1;36m0\u001b[0m \u001b[1;32mfor\u001b[0m \u001b[0my_i\u001b[0m\u001b[1;33m,\u001b[0m \u001b[0my0_i\u001b[0m \u001b[1;32min\u001b[0m \u001b[0mzip\u001b[0m\u001b[1;33m(\u001b[0m\u001b[0my\u001b[0m\u001b[1;33m,\u001b[0m \u001b[0my0\u001b[0m\u001b[1;33m)\u001b[0m\u001b[1;33m]\u001b[0m\u001b[1;33m\u001b[0m\u001b[0m\n",
      "\u001b[1;31mKeyboardInterrupt\u001b[0m: "
     ]
    }
   ],
   "source": [
    "# %%script false\n",
    "# 38% / 47% / 57% /58.5% / 61% - 0.656% (0.99344%) - video\n",
    "# 83% undersampling / 50% oversampling / 89.8% original dataset / 0.08228\n",
    "\n",
    "metric, lost = train_img(model, optimizer, scheduler, x_train, x_val, y_train, accuracy_b, device, \n",
    "                         [log_loss_sigmoid, accuracy_sigmoid_mean], \n",
    "                         epochs=epochs,\n",
    "                         batch_size=batch_size, \n",
    "                         useScheduler=True,\n",
    "                         checkpoint=0.35\n",
    "                        )"
   ]
  }
 ],
 "metadata": {
  "kernelspec": {
   "display_name": "Python 3",
   "language": "python",
   "name": "python3"
  },
  "language_info": {
   "codemirror_mode": {
    "name": "ipython",
    "version": 3
   },
   "file_extension": ".py",
   "mimetype": "text/x-python",
   "name": "python",
   "nbconvert_exporter": "python",
   "pygments_lexer": "ipython3",
   "version": "3.6.5"
  }
 },
 "nbformat": 4,
 "nbformat_minor": 2
}

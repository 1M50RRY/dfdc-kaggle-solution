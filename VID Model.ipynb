{
 "cells": [
  {
   "cell_type": "code",
   "execution_count": 1,
   "metadata": {
    "scrolled": true
   },
   "outputs": [
    {
     "name": "stderr",
     "output_type": "stream",
     "text": [
      "d:\\users\\user\\appdata\\local\\programs\\python\\python36\\lib\\site-packages\\numpy\\_distributor_init.py:32: UserWarning: loaded more than 1 DLL from .libs:\n",
      "d:\\users\\user\\appdata\\local\\programs\\python\\python36\\lib\\site-packages\\numpy\\.libs\\libopenblas.IPBC74C7KURV7CB2PKT5Z5FNR3SIBV4J.gfortran-win_amd64.dll\n",
      "d:\\users\\user\\appdata\\local\\programs\\python\\python36\\lib\\site-packages\\numpy\\.libs\\libopenblas.PYQHXLVVQ7VESDPUVUADXEVJOBGHJPAY.gfortran-win_amd64.dll\n",
      "  stacklevel=1)\n"
     ]
    }
   ],
   "source": [
    "import torch\n",
    "import torch.nn as nn\n",
    "import random\n",
    "import numpy as np\n",
    "import pandas as pd\n",
    "import json\n",
    "import cv2\n",
    "import os\n",
    "from sklearn import preprocessing\n",
    "from sklearn.model_selection import train_test_split\n",
    "from functools import partial\n",
    "from dataclasses import dataclass\n",
    "from collections import OrderedDict\n",
    "import torchvision\n",
    "from IPython.display import clear_output\n",
    "import matplotlib.pyplot as plt\n",
    "import tqdm\n",
    "from PIL import ImageFilter, Image\n",
    "import torchvision.models as models\n",
    "import torch.nn as nn\n",
    "import torch.nn.functional as F\n",
    "import math\n",
    "#import torch.utils.model_zoo as model_zoo\n",
    "from torch.nn import init\n",
    "\n",
    "from network.meso import Meso4, MesoInception4\n",
    "from network.models import model_selection, return_pytorch04_xception\n",
    "from network.lstm_deepfake import LSTMDF\n",
    " \n",
    "from pipeline.metrics import accuracy, log_loss, accuracy_b, log_loss_b\n",
    "from pipeline.model_methods import validate_img, train_img, validate_vid, train_vid\n",
    "from pipeline.data_loaders import load_img_dataset\n",
    "from pipeline.image_extracting import extract_faces, FastMTCNN, InceptionResnetV1\n",
    "\n",
    "\n",
    "random.seed(0)\n",
    "np.random.seed(0)\n",
    "torch.manual_seed(0)\n",
    "torch.cuda.manual_seed(0)\n",
    "torch.backends.cudnn.deterministic = True\n",
    "PATH = \"model.h5\"\n",
    "device = torch.device('cuda:0' if torch.cuda.is_available() else 'cpu')"
   ]
  },
  {
   "cell_type": "code",
   "execution_count": 2,
   "metadata": {
    "scrolled": true
   },
   "outputs": [
    {
     "data": {
      "text/plain": [
       "(69084, 12715)"
      ]
     },
     "execution_count": 2,
     "metadata": {},
     "output_type": "execute_result"
    }
   ],
   "source": [
    "y_train = pd.read_csv('data\\\\metadata.csv')\n",
    "len(y_train[y_train.label == 1]), len(y_train[y_train.label == 0])"
   ]
  },
  {
   "cell_type": "code",
   "execution_count": 3,
   "metadata": {
    "scrolled": true
   },
   "outputs": [],
   "source": [
    "batch_size = 2\n",
    "limit = 1\n",
    "x_train = r'D:\\Machine Learning\\deepfake-detection\\data\\train_set'\n",
    "x_val = r'D:\\Machine Learning\\deepfake-detection\\data\\validation_set'"
   ]
  },
  {
   "cell_type": "code",
   "execution_count": 4,
   "metadata": {},
   "outputs": [
    {
     "name": "stdout",
     "output_type": "stream",
     "text": [
      "Couldn't find program: 'false'\n"
     ]
    }
   ],
   "source": [
    "%%script false\n",
    "\n",
    "model = return_pytorch04_xception()\n",
    "\n",
    "#for param in model.parameters():\n",
    "#    model.requires_grad = False\n",
    "\n",
    "#in_features = model.fc.in_features\n",
    "model.last_linear = nn.Sequential(\n",
    "            nn.LSTM(2048, 512, 2, dropout=0.5),\n",
    "            nn.Dropout(0.5),\n",
    "            nn.Linear(512, 2)\n",
    "        )"
   ]
  },
  {
   "cell_type": "code",
   "execution_count": 5,
   "metadata": {
    "scrolled": true
   },
   "outputs": [],
   "source": [
    "model, *_ = model_selection(modelname='xception', num_out_classes=2, dropout=None)\n",
    "#model = Meso4() #LSTMDF(dropout=0.5)"
   ]
  },
  {
   "cell_type": "code",
   "execution_count": 6,
   "metadata": {
    "scrolled": true
   },
   "outputs": [
    {
     "name": "stdout",
     "output_type": "stream",
     "text": [
      "Couldn't find program: 'false'\n"
     ]
    }
   ],
   "source": [
    "%%script false\n",
    "model.load_state_dict(torch.load('pretrained/best.pkl'))\n",
    "\n",
    "if isinstance(model, torch.nn.DataParallel):\n",
    "    model = model.module"
   ]
  },
  {
   "cell_type": "code",
   "execution_count": 7,
   "metadata": {
    "scrolled": true
   },
   "outputs": [
    {
     "data": {
      "text/plain": [
       "TransferModel(\n",
       "  (model): Xception(\n",
       "    (conv1): Conv2d(3, 32, kernel_size=(3, 3), stride=(2, 2), bias=False)\n",
       "    (bn1): BatchNorm2d(32, eps=1e-05, momentum=0.1, affine=True, track_running_stats=True)\n",
       "    (relu): ReLU(inplace)\n",
       "    (conv2): Conv2d(32, 64, kernel_size=(3, 3), stride=(1, 1), bias=False)\n",
       "    (bn2): BatchNorm2d(64, eps=1e-05, momentum=0.1, affine=True, track_running_stats=True)\n",
       "    (block1): Block(\n",
       "      (skip): Conv2d(64, 128, kernel_size=(1, 1), stride=(2, 2), bias=False)\n",
       "      (skipbn): BatchNorm2d(128, eps=1e-05, momentum=0.1, affine=True, track_running_stats=True)\n",
       "      (relu): ReLU(inplace)\n",
       "      (rep): Sequential(\n",
       "        (0): SeparableConv2d(\n",
       "          (conv1): Conv2d(64, 64, kernel_size=(3, 3), stride=(1, 1), padding=(1, 1), groups=64, bias=False)\n",
       "          (pointwise): Conv2d(64, 128, kernel_size=(1, 1), stride=(1, 1), bias=False)\n",
       "        )\n",
       "        (1): BatchNorm2d(128, eps=1e-05, momentum=0.1, affine=True, track_running_stats=True)\n",
       "        (2): ReLU(inplace)\n",
       "        (3): SeparableConv2d(\n",
       "          (conv1): Conv2d(128, 128, kernel_size=(3, 3), stride=(1, 1), padding=(1, 1), groups=128, bias=False)\n",
       "          (pointwise): Conv2d(128, 128, kernel_size=(1, 1), stride=(1, 1), bias=False)\n",
       "        )\n",
       "        (4): BatchNorm2d(128, eps=1e-05, momentum=0.1, affine=True, track_running_stats=True)\n",
       "        (5): MaxPool2d(kernel_size=3, stride=2, padding=1, dilation=1, ceil_mode=False)\n",
       "      )\n",
       "    )\n",
       "    (block2): Block(\n",
       "      (skip): Conv2d(128, 256, kernel_size=(1, 1), stride=(2, 2), bias=False)\n",
       "      (skipbn): BatchNorm2d(256, eps=1e-05, momentum=0.1, affine=True, track_running_stats=True)\n",
       "      (relu): ReLU(inplace)\n",
       "      (rep): Sequential(\n",
       "        (0): ReLU()\n",
       "        (1): SeparableConv2d(\n",
       "          (conv1): Conv2d(128, 128, kernel_size=(3, 3), stride=(1, 1), padding=(1, 1), groups=128, bias=False)\n",
       "          (pointwise): Conv2d(128, 256, kernel_size=(1, 1), stride=(1, 1), bias=False)\n",
       "        )\n",
       "        (2): BatchNorm2d(256, eps=1e-05, momentum=0.1, affine=True, track_running_stats=True)\n",
       "        (3): ReLU(inplace)\n",
       "        (4): SeparableConv2d(\n",
       "          (conv1): Conv2d(256, 256, kernel_size=(3, 3), stride=(1, 1), padding=(1, 1), groups=256, bias=False)\n",
       "          (pointwise): Conv2d(256, 256, kernel_size=(1, 1), stride=(1, 1), bias=False)\n",
       "        )\n",
       "        (5): BatchNorm2d(256, eps=1e-05, momentum=0.1, affine=True, track_running_stats=True)\n",
       "        (6): MaxPool2d(kernel_size=3, stride=2, padding=1, dilation=1, ceil_mode=False)\n",
       "      )\n",
       "    )\n",
       "    (block3): Block(\n",
       "      (skip): Conv2d(256, 728, kernel_size=(1, 1), stride=(2, 2), bias=False)\n",
       "      (skipbn): BatchNorm2d(728, eps=1e-05, momentum=0.1, affine=True, track_running_stats=True)\n",
       "      (relu): ReLU(inplace)\n",
       "      (rep): Sequential(\n",
       "        (0): ReLU()\n",
       "        (1): SeparableConv2d(\n",
       "          (conv1): Conv2d(256, 256, kernel_size=(3, 3), stride=(1, 1), padding=(1, 1), groups=256, bias=False)\n",
       "          (pointwise): Conv2d(256, 728, kernel_size=(1, 1), stride=(1, 1), bias=False)\n",
       "        )\n",
       "        (2): BatchNorm2d(728, eps=1e-05, momentum=0.1, affine=True, track_running_stats=True)\n",
       "        (3): ReLU(inplace)\n",
       "        (4): SeparableConv2d(\n",
       "          (conv1): Conv2d(728, 728, kernel_size=(3, 3), stride=(1, 1), padding=(1, 1), groups=728, bias=False)\n",
       "          (pointwise): Conv2d(728, 728, kernel_size=(1, 1), stride=(1, 1), bias=False)\n",
       "        )\n",
       "        (5): BatchNorm2d(728, eps=1e-05, momentum=0.1, affine=True, track_running_stats=True)\n",
       "        (6): MaxPool2d(kernel_size=3, stride=2, padding=1, dilation=1, ceil_mode=False)\n",
       "      )\n",
       "    )\n",
       "    (block4): Block(\n",
       "      (relu): ReLU(inplace)\n",
       "      (rep): Sequential(\n",
       "        (0): ReLU()\n",
       "        (1): SeparableConv2d(\n",
       "          (conv1): Conv2d(728, 728, kernel_size=(3, 3), stride=(1, 1), padding=(1, 1), groups=728, bias=False)\n",
       "          (pointwise): Conv2d(728, 728, kernel_size=(1, 1), stride=(1, 1), bias=False)\n",
       "        )\n",
       "        (2): BatchNorm2d(728, eps=1e-05, momentum=0.1, affine=True, track_running_stats=True)\n",
       "        (3): ReLU(inplace)\n",
       "        (4): SeparableConv2d(\n",
       "          (conv1): Conv2d(728, 728, kernel_size=(3, 3), stride=(1, 1), padding=(1, 1), groups=728, bias=False)\n",
       "          (pointwise): Conv2d(728, 728, kernel_size=(1, 1), stride=(1, 1), bias=False)\n",
       "        )\n",
       "        (5): BatchNorm2d(728, eps=1e-05, momentum=0.1, affine=True, track_running_stats=True)\n",
       "        (6): ReLU(inplace)\n",
       "        (7): SeparableConv2d(\n",
       "          (conv1): Conv2d(728, 728, kernel_size=(3, 3), stride=(1, 1), padding=(1, 1), groups=728, bias=False)\n",
       "          (pointwise): Conv2d(728, 728, kernel_size=(1, 1), stride=(1, 1), bias=False)\n",
       "        )\n",
       "        (8): BatchNorm2d(728, eps=1e-05, momentum=0.1, affine=True, track_running_stats=True)\n",
       "      )\n",
       "    )\n",
       "    (block5): Block(\n",
       "      (relu): ReLU(inplace)\n",
       "      (rep): Sequential(\n",
       "        (0): ReLU()\n",
       "        (1): SeparableConv2d(\n",
       "          (conv1): Conv2d(728, 728, kernel_size=(3, 3), stride=(1, 1), padding=(1, 1), groups=728, bias=False)\n",
       "          (pointwise): Conv2d(728, 728, kernel_size=(1, 1), stride=(1, 1), bias=False)\n",
       "        )\n",
       "        (2): BatchNorm2d(728, eps=1e-05, momentum=0.1, affine=True, track_running_stats=True)\n",
       "        (3): ReLU(inplace)\n",
       "        (4): SeparableConv2d(\n",
       "          (conv1): Conv2d(728, 728, kernel_size=(3, 3), stride=(1, 1), padding=(1, 1), groups=728, bias=False)\n",
       "          (pointwise): Conv2d(728, 728, kernel_size=(1, 1), stride=(1, 1), bias=False)\n",
       "        )\n",
       "        (5): BatchNorm2d(728, eps=1e-05, momentum=0.1, affine=True, track_running_stats=True)\n",
       "        (6): ReLU(inplace)\n",
       "        (7): SeparableConv2d(\n",
       "          (conv1): Conv2d(728, 728, kernel_size=(3, 3), stride=(1, 1), padding=(1, 1), groups=728, bias=False)\n",
       "          (pointwise): Conv2d(728, 728, kernel_size=(1, 1), stride=(1, 1), bias=False)\n",
       "        )\n",
       "        (8): BatchNorm2d(728, eps=1e-05, momentum=0.1, affine=True, track_running_stats=True)\n",
       "      )\n",
       "    )\n",
       "    (block6): Block(\n",
       "      (relu): ReLU(inplace)\n",
       "      (rep): Sequential(\n",
       "        (0): ReLU()\n",
       "        (1): SeparableConv2d(\n",
       "          (conv1): Conv2d(728, 728, kernel_size=(3, 3), stride=(1, 1), padding=(1, 1), groups=728, bias=False)\n",
       "          (pointwise): Conv2d(728, 728, kernel_size=(1, 1), stride=(1, 1), bias=False)\n",
       "        )\n",
       "        (2): BatchNorm2d(728, eps=1e-05, momentum=0.1, affine=True, track_running_stats=True)\n",
       "        (3): ReLU(inplace)\n",
       "        (4): SeparableConv2d(\n",
       "          (conv1): Conv2d(728, 728, kernel_size=(3, 3), stride=(1, 1), padding=(1, 1), groups=728, bias=False)\n",
       "          (pointwise): Conv2d(728, 728, kernel_size=(1, 1), stride=(1, 1), bias=False)\n",
       "        )\n",
       "        (5): BatchNorm2d(728, eps=1e-05, momentum=0.1, affine=True, track_running_stats=True)\n",
       "        (6): ReLU(inplace)\n",
       "        (7): SeparableConv2d(\n",
       "          (conv1): Conv2d(728, 728, kernel_size=(3, 3), stride=(1, 1), padding=(1, 1), groups=728, bias=False)\n",
       "          (pointwise): Conv2d(728, 728, kernel_size=(1, 1), stride=(1, 1), bias=False)\n",
       "        )\n",
       "        (8): BatchNorm2d(728, eps=1e-05, momentum=0.1, affine=True, track_running_stats=True)\n",
       "      )\n",
       "    )\n",
       "    (block7): Block(\n",
       "      (relu): ReLU(inplace)\n",
       "      (rep): Sequential(\n",
       "        (0): ReLU()\n",
       "        (1): SeparableConv2d(\n",
       "          (conv1): Conv2d(728, 728, kernel_size=(3, 3), stride=(1, 1), padding=(1, 1), groups=728, bias=False)\n",
       "          (pointwise): Conv2d(728, 728, kernel_size=(1, 1), stride=(1, 1), bias=False)\n",
       "        )\n",
       "        (2): BatchNorm2d(728, eps=1e-05, momentum=0.1, affine=True, track_running_stats=True)\n",
       "        (3): ReLU(inplace)\n",
       "        (4): SeparableConv2d(\n",
       "          (conv1): Conv2d(728, 728, kernel_size=(3, 3), stride=(1, 1), padding=(1, 1), groups=728, bias=False)\n",
       "          (pointwise): Conv2d(728, 728, kernel_size=(1, 1), stride=(1, 1), bias=False)\n",
       "        )\n",
       "        (5): BatchNorm2d(728, eps=1e-05, momentum=0.1, affine=True, track_running_stats=True)\n",
       "        (6): ReLU(inplace)\n",
       "        (7): SeparableConv2d(\n",
       "          (conv1): Conv2d(728, 728, kernel_size=(3, 3), stride=(1, 1), padding=(1, 1), groups=728, bias=False)\n",
       "          (pointwise): Conv2d(728, 728, kernel_size=(1, 1), stride=(1, 1), bias=False)\n",
       "        )\n",
       "        (8): BatchNorm2d(728, eps=1e-05, momentum=0.1, affine=True, track_running_stats=True)\n",
       "      )\n",
       "    )\n",
       "    (block8): Block(\n",
       "      (relu): ReLU(inplace)\n",
       "      (rep): Sequential(\n",
       "        (0): ReLU()\n",
       "        (1): SeparableConv2d(\n",
       "          (conv1): Conv2d(728, 728, kernel_size=(3, 3), stride=(1, 1), padding=(1, 1), groups=728, bias=False)\n",
       "          (pointwise): Conv2d(728, 728, kernel_size=(1, 1), stride=(1, 1), bias=False)\n",
       "        )\n",
       "        (2): BatchNorm2d(728, eps=1e-05, momentum=0.1, affine=True, track_running_stats=True)\n",
       "        (3): ReLU(inplace)\n",
       "        (4): SeparableConv2d(\n",
       "          (conv1): Conv2d(728, 728, kernel_size=(3, 3), stride=(1, 1), padding=(1, 1), groups=728, bias=False)\n",
       "          (pointwise): Conv2d(728, 728, kernel_size=(1, 1), stride=(1, 1), bias=False)\n",
       "        )\n",
       "        (5): BatchNorm2d(728, eps=1e-05, momentum=0.1, affine=True, track_running_stats=True)\n",
       "        (6): ReLU(inplace)\n",
       "        (7): SeparableConv2d(\n",
       "          (conv1): Conv2d(728, 728, kernel_size=(3, 3), stride=(1, 1), padding=(1, 1), groups=728, bias=False)\n",
       "          (pointwise): Conv2d(728, 728, kernel_size=(1, 1), stride=(1, 1), bias=False)\n",
       "        )\n",
       "        (8): BatchNorm2d(728, eps=1e-05, momentum=0.1, affine=True, track_running_stats=True)\n",
       "      )\n",
       "    )\n",
       "    (block9): Block(\n",
       "      (relu): ReLU(inplace)\n",
       "      (rep): Sequential(\n",
       "        (0): ReLU()\n",
       "        (1): SeparableConv2d(\n",
       "          (conv1): Conv2d(728, 728, kernel_size=(3, 3), stride=(1, 1), padding=(1, 1), groups=728, bias=False)\n",
       "          (pointwise): Conv2d(728, 728, kernel_size=(1, 1), stride=(1, 1), bias=False)\n",
       "        )\n",
       "        (2): BatchNorm2d(728, eps=1e-05, momentum=0.1, affine=True, track_running_stats=True)\n",
       "        (3): ReLU(inplace)\n",
       "        (4): SeparableConv2d(\n",
       "          (conv1): Conv2d(728, 728, kernel_size=(3, 3), stride=(1, 1), padding=(1, 1), groups=728, bias=False)\n",
       "          (pointwise): Conv2d(728, 728, kernel_size=(1, 1), stride=(1, 1), bias=False)\n",
       "        )\n",
       "        (5): BatchNorm2d(728, eps=1e-05, momentum=0.1, affine=True, track_running_stats=True)\n",
       "        (6): ReLU(inplace)\n",
       "        (7): SeparableConv2d(\n",
       "          (conv1): Conv2d(728, 728, kernel_size=(3, 3), stride=(1, 1), padding=(1, 1), groups=728, bias=False)\n",
       "          (pointwise): Conv2d(728, 728, kernel_size=(1, 1), stride=(1, 1), bias=False)\n",
       "        )\n",
       "        (8): BatchNorm2d(728, eps=1e-05, momentum=0.1, affine=True, track_running_stats=True)\n",
       "      )\n",
       "    )\n",
       "    (block10): Block(\n",
       "      (relu): ReLU(inplace)\n",
       "      (rep): Sequential(\n",
       "        (0): ReLU()\n",
       "        (1): SeparableConv2d(\n",
       "          (conv1): Conv2d(728, 728, kernel_size=(3, 3), stride=(1, 1), padding=(1, 1), groups=728, bias=False)\n",
       "          (pointwise): Conv2d(728, 728, kernel_size=(1, 1), stride=(1, 1), bias=False)\n",
       "        )\n",
       "        (2): BatchNorm2d(728, eps=1e-05, momentum=0.1, affine=True, track_running_stats=True)\n",
       "        (3): ReLU(inplace)\n",
       "        (4): SeparableConv2d(\n",
       "          (conv1): Conv2d(728, 728, kernel_size=(3, 3), stride=(1, 1), padding=(1, 1), groups=728, bias=False)\n",
       "          (pointwise): Conv2d(728, 728, kernel_size=(1, 1), stride=(1, 1), bias=False)\n",
       "        )\n",
       "        (5): BatchNorm2d(728, eps=1e-05, momentum=0.1, affine=True, track_running_stats=True)\n",
       "        (6): ReLU(inplace)\n",
       "        (7): SeparableConv2d(\n",
       "          (conv1): Conv2d(728, 728, kernel_size=(3, 3), stride=(1, 1), padding=(1, 1), groups=728, bias=False)\n",
       "          (pointwise): Conv2d(728, 728, kernel_size=(1, 1), stride=(1, 1), bias=False)\n",
       "        )\n",
       "        (8): BatchNorm2d(728, eps=1e-05, momentum=0.1, affine=True, track_running_stats=True)\n",
       "      )\n",
       "    )\n",
       "    (block11): Block(\n",
       "      (relu): ReLU(inplace)\n",
       "      (rep): Sequential(\n",
       "        (0): ReLU()\n",
       "        (1): SeparableConv2d(\n",
       "          (conv1): Conv2d(728, 728, kernel_size=(3, 3), stride=(1, 1), padding=(1, 1), groups=728, bias=False)\n",
       "          (pointwise): Conv2d(728, 728, kernel_size=(1, 1), stride=(1, 1), bias=False)\n",
       "        )\n",
       "        (2): BatchNorm2d(728, eps=1e-05, momentum=0.1, affine=True, track_running_stats=True)\n",
       "        (3): ReLU(inplace)\n",
       "        (4): SeparableConv2d(\n",
       "          (conv1): Conv2d(728, 728, kernel_size=(3, 3), stride=(1, 1), padding=(1, 1), groups=728, bias=False)\n",
       "          (pointwise): Conv2d(728, 728, kernel_size=(1, 1), stride=(1, 1), bias=False)\n",
       "        )\n",
       "        (5): BatchNorm2d(728, eps=1e-05, momentum=0.1, affine=True, track_running_stats=True)\n",
       "        (6): ReLU(inplace)\n",
       "        (7): SeparableConv2d(\n",
       "          (conv1): Conv2d(728, 728, kernel_size=(3, 3), stride=(1, 1), padding=(1, 1), groups=728, bias=False)\n",
       "          (pointwise): Conv2d(728, 728, kernel_size=(1, 1), stride=(1, 1), bias=False)\n",
       "        )\n",
       "        (8): BatchNorm2d(728, eps=1e-05, momentum=0.1, affine=True, track_running_stats=True)\n",
       "      )\n",
       "    )\n",
       "    (block12): Block(\n",
       "      (skip): Conv2d(728, 1024, kernel_size=(1, 1), stride=(2, 2), bias=False)\n",
       "      (skipbn): BatchNorm2d(1024, eps=1e-05, momentum=0.1, affine=True, track_running_stats=True)\n",
       "      (relu): ReLU(inplace)\n",
       "      (rep): Sequential(\n",
       "        (0): ReLU()\n",
       "        (1): SeparableConv2d(\n",
       "          (conv1): Conv2d(728, 728, kernel_size=(3, 3), stride=(1, 1), padding=(1, 1), groups=728, bias=False)\n",
       "          (pointwise): Conv2d(728, 728, kernel_size=(1, 1), stride=(1, 1), bias=False)\n",
       "        )\n",
       "        (2): BatchNorm2d(728, eps=1e-05, momentum=0.1, affine=True, track_running_stats=True)\n",
       "        (3): ReLU(inplace)\n",
       "        (4): SeparableConv2d(\n",
       "          (conv1): Conv2d(728, 728, kernel_size=(3, 3), stride=(1, 1), padding=(1, 1), groups=728, bias=False)\n",
       "          (pointwise): Conv2d(728, 1024, kernel_size=(1, 1), stride=(1, 1), bias=False)\n",
       "        )\n",
       "        (5): BatchNorm2d(1024, eps=1e-05, momentum=0.1, affine=True, track_running_stats=True)\n",
       "        (6): MaxPool2d(kernel_size=3, stride=2, padding=1, dilation=1, ceil_mode=False)\n",
       "      )\n",
       "    )\n",
       "    (conv3): SeparableConv2d(\n",
       "      (conv1): Conv2d(1024, 1024, kernel_size=(3, 3), stride=(1, 1), padding=(1, 1), groups=1024, bias=False)\n",
       "      (pointwise): Conv2d(1024, 1536, kernel_size=(1, 1), stride=(1, 1), bias=False)\n",
       "    )\n",
       "    (bn3): BatchNorm2d(1536, eps=1e-05, momentum=0.1, affine=True, track_running_stats=True)\n",
       "    (conv4): SeparableConv2d(\n",
       "      (conv1): Conv2d(1536, 1536, kernel_size=(3, 3), stride=(1, 1), padding=(1, 1), groups=1536, bias=False)\n",
       "      (pointwise): Conv2d(1536, 2048, kernel_size=(1, 1), stride=(1, 1), bias=False)\n",
       "    )\n",
       "    (bn4): BatchNorm2d(2048, eps=1e-05, momentum=0.1, affine=True, track_running_stats=True)\n",
       "    (last_linear): Linear(in_features=2048, out_features=2, bias=True)\n",
       "  )\n",
       ")"
      ]
     },
     "execution_count": 7,
     "metadata": {},
     "output_type": "execute_result"
    }
   ],
   "source": [
    "#%%script false\n",
    "\n",
    "#model.load_state_dict(torch.load(\"pretrained/xception/all_c40.pth\"))\n",
    "model.load_state_dict(torch.load(\"pretrained/xception/trained_c40_244_clean.pth\"))\n",
    "model.eval()"
   ]
  },
  {
   "cell_type": "code",
   "execution_count": 8,
   "metadata": {},
   "outputs": [],
   "source": [
    "exceptions = ['last_linear']\n",
    "for name, param in model.named_parameters():\n",
    "    for e in exceptions:\n",
    "        if e in name:\n",
    "            param.requires_grad = False\n",
    "        else:\n",
    "            param.requires_grad = True"
   ]
  },
  {
   "cell_type": "code",
   "execution_count": 9,
   "metadata": {},
   "outputs": [],
   "source": [
    "loss =  torch.nn.CrossEntropyLoss()\n",
    "optimizer = torch.optim.Adam(model.model.last_linear.parameters(), lr=1e-3) \n",
    "#optimizer = torch.optim.SGD(model.model.last_linear.parameters(), lr=0.001, momentum=0.9)\n",
    "scheduler = torch.optim.lr_scheduler.StepLR(optimizer, step_size=3, gamma=0.1)"
   ]
  },
  {
   "cell_type": "code",
   "execution_count": 10,
   "metadata": {},
   "outputs": [],
   "source": [
    "model = model.to(device)"
   ]
  },
  {
   "cell_type": "code",
   "execution_count": 27,
   "metadata": {},
   "outputs": [],
   "source": [
    "fast_mtcnn = FastMTCNN(\n",
    "    stride=4,\n",
    "    resize=1,\n",
    "    margin=14,\n",
    "    factor=0.6,\n",
    "    #min_face_size=20,\n",
    "    #keep_all=True,\n",
    "    select_largest=False,\n",
    "    device=device\n",
    ")\n",
    "transforms = torchvision.transforms.Compose([\n",
    "    torchvision.transforms.Resize((256, 256)),\n",
    "    torchvision.transforms.ToTensor(),\n",
    "    torchvision.transforms.Normalize((0.5, 0.5, 0.5),(0.5, 0.5, 0.5))\n",
    "    #torchvision.transforms.Normalize(mean=[0.485, 0.456, 0.406], std=[0.229, 0.224, 0.225])\n",
    "])\n",
    "resnet = InceptionResnetV1(pretrained='vggface2', device=device).eval()"
   ]
  },
  {
   "cell_type": "code",
   "execution_count": 31,
   "metadata": {
    "scrolled": true
   },
   "outputs": [
    {
     "data": {
      "application/vnd.jupyter.widget-view+json": {
       "model_id": "d02802d14c634255aa583018147f3245",
       "version_major": 2,
       "version_minor": 0
      },
      "text/plain": [
       "HBox(children=(FloatProgress(value=0.0, max=225.0), HTML(value='')))"
      ]
     },
     "metadata": {},
     "output_type": "display_data"
    },
    {
     "name": "stdout",
     "output_type": "stream",
     "text": [
      "0.0001 tensor(0, device='cuda:0')\n",
      "0.0001 tensor(0, device='cuda:0')\n",
      "0.3751 tensor(0, device='cuda:0')\n",
      "0.7001 tensor(0, device='cuda:0')\n",
      "0.8001 tensor(0, device='cuda:0')\n",
      "0.8001 tensor(0, device='cuda:0')\n",
      "0.0001 tensor(0, device='cuda:0')\n",
      "1.0001 tensor(0, device='cuda:0')\n",
      "0.3751 tensor(0, device='cuda:0')\n",
      "0.0001 tensor(0, device='cuda:0')\n",
      "0.2001 tensor(0, device='cuda:0')\n",
      "1.0001 tensor(0, device='cuda:0')\n",
      "1.0001 tensor(0, device='cuda:0')\n",
      "0.0001 tensor(0, device='cuda:0')\n",
      "0.0001 tensor(0, device='cuda:0')\n",
      "0.6667666666666666 tensor(0, device='cuda:0')\n",
      "0.0001 tensor(0, device='cuda:0')\n",
      "0.0001 tensor(0, device='cuda:0')\n",
      "0.3001 tensor(0, device='cuda:0')\n",
      "1.0001 tensor(0, device='cuda:0')\n",
      "0.0001 tensor(0, device='cuda:0')\n",
      "0.7001 tensor(0, device='cuda:0')\n",
      "1.0001 tensor(0, device='cuda:0')\n",
      "0.8334333333333334 tensor(0, device='cuda:0')\n",
      "0.0001 tensor(0, device='cuda:0')\n",
      "0.3001 tensor(0, device='cuda:0')\n",
      "1.0001 tensor(0, device='cuda:0')\n",
      "0.8001 tensor(0, device='cuda:0')\n",
      "0.2001 tensor(0, device='cuda:0')\n",
      "1.0001 tensor(0, device='cuda:0')\n",
      "0.35724285714285714 tensor(0, device='cuda:0')\n",
      "0.0626 tensor(0, device='cuda:0')\n",
      "0.6667666666666666 tensor(0, device='cuda:0')\n",
      "0.5001 tensor(0, device='cuda:0')\n",
      "0.0001 tensor(0, device='cuda:0')\n",
      "0.4001 tensor(0, device='cuda:0')\n",
      "0.2001 tensor(0, device='cuda:0')\n",
      "1.0001 tensor(0, device='cuda:0')\n",
      "0.0001 tensor(0, device='cuda:0')\n",
      "1.0001 tensor(0, device='cuda:0')\n",
      "1.0001 tensor(0, device='cuda:0')\n",
      "0.6001 tensor(0, device='cuda:0')\n",
      "0.9001 tensor(0, device='cuda:0')\n",
      "1.0001 tensor(0, device='cuda:0')\n",
      "1.0001 tensor(0, device='cuda:0')\n",
      "0.2001 tensor(0, device='cuda:0')\n",
      "1.0001 tensor(0, device='cuda:0')\n",
      "0.0001 tensor(0, device='cuda:0')\n",
      "0.8001 tensor(0, device='cuda:0')\n",
      "0.5001 tensor(0, device='cuda:0')\n",
      "0.8001 tensor(0, device='cuda:0')\n",
      "0.14295714285714284 tensor(0, device='cuda:0')\n",
      "0.0001 tensor(0, device='cuda:0')\n",
      "1.0001 tensor(0, device='cuda:0')\n",
      "1.0001 tensor(0, device='cuda:0')\n",
      "0.3334333333333333 tensor(0, device='cuda:0')\n",
      "1.0001 tensor(0, device='cuda:0')\n",
      "0.10010000000000001 tensor(0, device='cuda:0')\n",
      "0.8001 tensor(0, device='cuda:0')\n",
      "1.0001 tensor(0, device='cuda:0')\n",
      "0.5001 tensor(0, device='cuda:0')\n",
      "0.3001 tensor(0, device='cuda:0')\n",
      "0.5001 tensor(0, device='cuda:0')\n",
      "0.2001 tensor(0, device='cuda:0')\n",
      "0.6001 tensor(0, device='cuda:0')\n",
      "0.0001 tensor(0, device='cuda:0')\n",
      "0.4001 tensor(0, device='cuda:0')\n",
      "0.7001 tensor(0, device='cuda:0')\n",
      "0.9001 tensor(0, device='cuda:0')\n",
      "1.0001 tensor(0, device='cuda:0')\n",
      "1.0001 tensor(0, device='cuda:0')\n",
      "1.0001 tensor(0, device='cuda:0')\n",
      "1.0001 tensor(0, device='cuda:0')\n",
      "0.7001 tensor(0, device='cuda:0')\n",
      "1.0001 tensor(0, device='cuda:0')\n",
      "0.4167666666666667 tensor(0, device='cuda:0')\n",
      "0.050100000000000006 tensor(0, device='cuda:0')\n",
      "0.4001 tensor(0, device='cuda:0')\n",
      "1.0001 tensor(0, device='cuda:0')\n",
      "1.0001 tensor(0, device='cuda:0')\n",
      "0.0001 tensor(0, device='cuda:0')\n",
      "1.0001 tensor(0, device='cuda:0')\n",
      "1.0001 tensor(0, device='cuda:0')\n",
      "0.0001 tensor(0, device='cuda:0')\n",
      "0.35009999999999997 tensor(0, device='cuda:0')\n",
      "0.0001 tensor(0, device='cuda:0')\n",
      "1.0001 tensor(0, device='cuda:0')\n",
      "0.3001 tensor(0, device='cuda:0')\n",
      "0.4501 tensor(0, device='cuda:0')\n",
      "0.8001 tensor(0, device='cuda:0')\n",
      "0.0001 tensor(0, device='cuda:0')\n",
      "0.9001 tensor(0, device='cuda:0')\n",
      "1.0001 tensor(0, device='cuda:0')\n",
      "1.0001 tensor(0, device='cuda:0')\n",
      "0.9001 tensor(0, device='cuda:0')\n",
      "1.0001 tensor(0, device='cuda:0')\n",
      "0.7143857142857143 tensor(0, device='cuda:0')\n",
      "1.0001 tensor(0, device='cuda:0')\n",
      "0.0001 tensor(0, device='cuda:0')\n",
      "0.9001 tensor(0, device='cuda:0')\n",
      "1.0001 tensor(1, device='cuda:0')\n",
      "0.0001 tensor(1, device='cuda:0')\n",
      "1.0001 tensor(1, device='cuda:0')\n",
      "0.0001 tensor(1, device='cuda:0')\n",
      "1.0001 tensor(1, device='cuda:0')\n",
      "0.8751 tensor(1, device='cuda:0')\n",
      "0.8001 tensor(1, device='cuda:0')\n",
      "0.9501 tensor(1, device='cuda:0')\n",
      "0.9001 tensor(1, device='cuda:0')\n",
      "1.0001 tensor(1, device='cuda:0')\n",
      "1.0001 tensor(1, device='cuda:0')\n",
      "1.0001 tensor(1, device='cuda:0')\n",
      "1.0001 tensor(1, device='cuda:0')\n",
      "1.0001 tensor(1, device='cuda:0')\n",
      "0.0001 tensor(1, device='cuda:0')\n",
      "1.0001 tensor(1, device='cuda:0')\n",
      "1.0001 tensor(1, device='cuda:0')\n",
      "0.7501 tensor(1, device='cuda:0')\n",
      "1.0001 tensor(1, device='cuda:0')\n",
      "1.0001 tensor(1, device='cuda:0')\n",
      "1.0001 tensor(1, device='cuda:0')\n",
      "0.5001 tensor(1, device='cuda:0')\n",
      "1.0001 tensor(1, device='cuda:0')\n",
      "1.0001 tensor(1, device='cuda:0')\n",
      "1.0001 tensor(1, device='cuda:0')\n",
      "0.9001 tensor(1, device='cuda:0')\n",
      "1.0001 tensor(1, device='cuda:0')\n",
      "0.9501 tensor(1, device='cuda:0')\n",
      "0.9001 tensor(1, device='cuda:0')\n",
      "1.0001 tensor(1, device='cuda:0')\n",
      "1.0001 tensor(1, device='cuda:0')\n",
      "1.0001 tensor(1, device='cuda:0')\n",
      "0.0001 tensor(1, device='cuda:0')\n",
      "0.0001 tensor(1, device='cuda:0')\n",
      "0.8501 tensor(1, device='cuda:0')\n",
      "0.9501 tensor(1, device='cuda:0')\n",
      "0.8001 tensor(1, device='cuda:0')\n",
      "0.9501 tensor(1, device='cuda:0')\n",
      "1.0001 tensor(1, device='cuda:0')\n",
      "1.0001 tensor(1, device='cuda:0')\n",
      "1.0001 tensor(1, device='cuda:0')\n",
      "1.0001 tensor(1, device='cuda:0')\n",
      "1.0001 tensor(1, device='cuda:0')\n",
      "1.0001 tensor(1, device='cuda:0')\n",
      "0.9001 tensor(1, device='cuda:0')\n",
      "1.0001 tensor(1, device='cuda:0')\n",
      "1.0001 tensor(1, device='cuda:0')\n",
      "1.0001 tensor(1, device='cuda:0')\n",
      "0.3001 tensor(1, device='cuda:0')\n",
      "1.0001 tensor(1, device='cuda:0')\n",
      "1.0001 tensor(1, device='cuda:0')\n",
      "1.0001 tensor(1, device='cuda:0')\n",
      "1.0001 tensor(1, device='cuda:0')\n",
      "1.0001 tensor(1, device='cuda:0')\n",
      "1.0001 tensor(1, device='cuda:0')\n",
      "0.0001 tensor(1, device='cuda:0')\n",
      "1.0001 tensor(1, device='cuda:0')\n",
      "0.0001 tensor(1, device='cuda:0')\n",
      "0.10010000000000001 tensor(1, device='cuda:0')\n",
      "1.0001 tensor(1, device='cuda:0')\n",
      "0.4001 tensor(1, device='cuda:0')\n",
      "0.10010000000000001 tensor(1, device='cuda:0')\n",
      "0.10010000000000001 tensor(1, device='cuda:0')\n",
      "0.0001 tensor(1, device='cuda:0')\n",
      "1.0001 tensor(1, device='cuda:0')\n",
      "1.0001 tensor(1, device='cuda:0')\n",
      "1.0001 tensor(1, device='cuda:0')\n",
      "1.0001 tensor(1, device='cuda:0')\n",
      "0.0001 tensor(1, device='cuda:0')\n",
      "1.0001 tensor(1, device='cuda:0')\n",
      "1.0001 tensor(1, device='cuda:0')\n",
      "0.8334333333333334 tensor(1, device='cuda:0')\n",
      "0.0001 tensor(1, device='cuda:0')\n",
      "0.9501 tensor(1, device='cuda:0')\n",
      "0.2001 tensor(1, device='cuda:0')\n",
      "1.0001 tensor(1, device='cuda:0')\n",
      "1.0001 tensor(1, device='cuda:0')\n",
      "1.0001 tensor(1, device='cuda:0')\n",
      "1.0001 tensor(1, device='cuda:0')\n",
      "1.0001 tensor(1, device='cuda:0')\n",
      "1.0001 tensor(1, device='cuda:0')\n",
      "0.4501 tensor(1, device='cuda:0')\n",
      "1.0001 tensor(1, device='cuda:0')\n",
      "0.8001 tensor(1, device='cuda:0')\n",
      "1.0001 tensor(1, device='cuda:0')\n",
      "0.0001 tensor(1, device='cuda:0')\n",
      "0.0001 tensor(1, device='cuda:0')\n",
      "1.0001 tensor(1, device='cuda:0')\n",
      "1.0001 tensor(1, device='cuda:0')\n",
      "0.10010000000000001 tensor(1, device='cuda:0')\n",
      "0.7001 tensor(1, device='cuda:0')\n",
      "1.0001 tensor(1, device='cuda:0')\n",
      "0.9001 tensor(1, device='cuda:0')\n",
      "0.3001 tensor(1, device='cuda:0')\n",
      "1.0001 tensor(1, device='cuda:0')\n",
      "0.6501 tensor(1, device='cuda:0')\n",
      "1.0001 tensor(1, device='cuda:0')\n",
      "1.0001 tensor(1, device='cuda:0')\n",
      "0.6001 tensor(1, device='cuda:0')\n",
      "1.0001 tensor(1, device='cuda:0')\n",
      "0.9501 tensor(1, device='cuda:0')\n",
      "0.9001 tensor(1, device='cuda:0')\n",
      "0.5834333333333334 tensor(1, device='cuda:0')\n",
      "1.0001 tensor(1, device='cuda:0')\n",
      "0.9584333333333334 tensor(1, device='cuda:0')\n",
      "1.0001 tensor(1, device='cuda:0')\n",
      "0.10010000000000001 tensor(1, device='cuda:0')\n",
      "1.0001 tensor(1, device='cuda:0')\n",
      "1.0001 tensor(1, device='cuda:0')\n",
      "0.0001 tensor(1, device='cuda:0')\n",
      "1.0001 tensor(1, device='cuda:0')\n",
      "1.0001 tensor(1, device='cuda:0')\n",
      "0.5001 tensor(1, device='cuda:0')\n",
      "0.9001 tensor(1, device='cuda:0')\n",
      "0.6001 tensor(1, device='cuda:0')\n",
      "1.0001 tensor(1, device='cuda:0')\n",
      "1.0001 tensor(1, device='cuda:0')\n",
      "1.0001 tensor(1, device='cuda:0')\n",
      "1.0001 tensor(1, device='cuda:0')\n",
      "0.0001 tensor(1, device='cuda:0')\n",
      "0.2501 tensor(1, device='cuda:0')\n",
      "0.6001 tensor(1, device='cuda:0')\n",
      "0.8637363636363636 tensor(1, device='cuda:0')\n",
      "1.0001 tensor(1, device='cuda:0')\n",
      "0.6001 tensor(1, device='cuda:0')\n",
      "\n",
      "Validation: metrics  0.6977777777777778 loss  178.60190587073166\n"
     ]
    },
    {
     "data": {
      "text/plain": [
       "(0.6977777777777778, 178.60190587073166)"
      ]
     },
     "execution_count": 31,
     "metadata": {},
     "output_type": "execute_result"
    }
   ],
   "source": [
    "#%%script false\n",
    "\n",
    "'''\n",
    "all_c40\n",
    "noisy 256 4 1 14 0.6 false false 30 5 0.99      | Validation: metrics  0.6682242990654206 Test: 0.68172 LL, 0.5785 ACC\n",
    "'''\n",
    "\n",
    "'''\n",
    "trained_c40_256_clean Validation: metrics  0.65\n",
    "noisy 256 4 1 14 0.6 false false 30 5 0.99      | Validation: metrics  0.72\n",
    "noisy 244 4 1 14 0.6 false false 30 5 0.99      | Validation: metrics  0.6622222222222223\n",
    "\n",
    "noisy 244 4 1 14 0.6 false false 10 5 0.99      | Validation: metrics  0.6933333333333334\n",
    "noisy 256 4 1 14 0.6 false false 10 5 0.99      | Validation: metrics  0.7422222222222222\n",
    "\n",
    "noisy 244 4 1 14 0.6 false false 5 5 0.99       | Validation: metrics  0.6977777777777778\n",
    "noisy 256 4 1 14 0.6 false false 5 5 0.99       | Validation: metrics  0.72\n",
    "\n",
    "noisy 244 4 1 14 0.6 false false 1 5 0.99       | Validation: metrics  0.6933333333333334\n",
    "noisy 256 4 1 14 0.6 false false 1 5 0.99       | Validation: metrics  0.7244444444444444\n",
    "\n",
    "clean 256 4 1 14 0.6 false false 1 5 0.99       | Validation: metrics  0.6577777777777778\n",
    "clean 244 4 1 14 0.6 false false 1 5 0.99       | Validation: metrics  0.6666666666666666\n",
    "clean 244 4 1 14 0.6 false false 5 5 0.99       | Validation: metrics  0.6222222222222222\n",
    "clean 244 4 1 14 0.6 false false 10 5 0.99      | Validation: metrics  0.6444444444444445\n",
    "clean 244 4 1 14 0.6 false false 30 5 0.99      | Validation: metrics  0.6177777777777778\n",
    "'''\n",
    "\n",
    "'''\n",
    "trained_c40_244_clean Validation: metrics  0.671\n",
    "noisy 256 4 1 14 0.6 false false 30 5 0.99      | Validation: metrics  0.6977777777777778\n",
    "noisy 244 4 1 14 0.6 false false 30 5 0.99      | Validation: metrics  0.6933333333333334\n",
    "\n",
    "noisy 244 4 1 14 0.6 false false 10 5 0.99      | Validation: metrics  0.7333333333333333\n",
    "noisy 256 4 1 14 0.6 false false 10 5 0.99      | Validation: metrics  0.6977777777777778\n",
    "\n",
    "noisy 244 4 1 14 0.6 false false 5 5 0.99       | Validation: metrics  0.7155555555555555\n",
    "noisy 256 4 1 14 0.6 false false 5 5 0.99       | Validation: metrics  0.6844444444444444\n",
    "\n",
    "noisy 244 4 1 14 0.6 false false 1 5 0.99       | Validation: metrics  0.6933333333333334\n",
    "noisy 256 4 1 14 0.6 false false 1 5 0.99       | Validation: metrics  0.6844444444444444\n",
    "\n",
    "clean 256 4 1 14 0.6 false false 1 5 0.99       | \n",
    "clean 244 4 1 14 0.6 false false 1 5 0.99       | Validation: metrics  0.6711111111111111\n",
    "clean 244 4 1 14 0.6 false false 5 5 0.99       | Validation: metrics  0.64\n",
    "clean 244 4 1 14 0.6 false false 10 5 0.99      | \n",
    "clean 244 4 1 14 0.6 false false 30 5 0.99      | \n",
    "'''\n",
    "\n",
    "validate_vid(model, x_val, y_train, loss, accuracy_b, device, 10, fast_mtcnn, transforms,\n",
    "             print_results=True, \n",
    "             inference=nn.Softmax(dim=1), delimeter=5, remove_noise=False)"
   ]
  },
  {
   "cell_type": "code",
   "execution_count": 13,
   "metadata": {
    "scrolled": true
   },
   "outputs": [
    {
     "data": {
      "application/vnd.jupyter.widget-view+json": {
       "model_id": "42057fbed3174d32a8ea914317e248a5",
       "version_major": 2,
       "version_minor": 0
      },
      "text/plain": [
       "HBox(children=(FloatProgress(value=0.0, max=3.0), HTML(value='')))"
      ]
     },
     "metadata": {},
     "output_type": "display_data"
    },
    {
     "data": {
      "application/vnd.jupyter.widget-view+json": {
       "model_id": "ed0b1920600449f6ba169cd0fc65e2d2",
       "version_major": 2,
       "version_minor": 0
      },
      "text/plain": [
       "HBox(children=(FloatProgress(value=0.0, max=1000.0), HTML(value='')))"
      ]
     },
     "metadata": {},
     "output_type": "display_data"
    },
    {
     "name": "stdout",
     "output_type": "stream",
     "text": [
      "\n"
     ]
    },
    {
     "data": {
      "application/vnd.jupyter.widget-view+json": {
       "model_id": "7d8f6e836ec2425cbc9f0ce6a88d34fa",
       "version_major": 2,
       "version_minor": 0
      },
      "text/plain": [
       "HBox(children=(FloatProgress(value=0.0, max=225.0), HTML(value='')))"
      ]
     },
     "metadata": {},
     "output_type": "display_data"
    },
    {
     "name": "stdout",
     "output_type": "stream",
     "text": [
      "\n",
      "Validation: metrics  0.6088888888888889 loss  949.3185088390319\n",
      "Train: metrics  0.645 loss  1.7302054367661477\n"
     ]
    },
    {
     "data": {
      "application/vnd.jupyter.widget-view+json": {
       "model_id": "a2e493c3fd544313b8c672b346ab4305",
       "version_major": 2,
       "version_minor": 0
      },
      "text/plain": [
       "HBox(children=(FloatProgress(value=0.0, max=1000.0), HTML(value='')))"
      ]
     },
     "metadata": {},
     "output_type": "display_data"
    },
    {
     "name": "stdout",
     "output_type": "stream",
     "text": [
      "\n"
     ]
    },
    {
     "data": {
      "application/vnd.jupyter.widget-view+json": {
       "model_id": "e7ddebebbf8c4b87ac89d01b31471ed0",
       "version_major": 2,
       "version_minor": 0
      },
      "text/plain": [
       "HBox(children=(FloatProgress(value=0.0, max=225.0), HTML(value='')))"
      ]
     },
     "metadata": {},
     "output_type": "display_data"
    },
    {
     "name": "stdout",
     "output_type": "stream",
     "text": [
      "\n",
      "Validation: metrics  0.6177777777777778 loss  2420.34894085787\n",
      "Train: metrics  0.645 loss  1.7302054367661477\n"
     ]
    },
    {
     "data": {
      "application/vnd.jupyter.widget-view+json": {
       "model_id": "a0bbbce6fe5241c6a9866aa3b5422c94",
       "version_major": 2,
       "version_minor": 0
      },
      "text/plain": [
       "HBox(children=(FloatProgress(value=0.0, max=1000.0), HTML(value='')))"
      ]
     },
     "metadata": {},
     "output_type": "display_data"
    },
    {
     "name": "stdout",
     "output_type": "stream",
     "text": [
      "\n"
     ]
    },
    {
     "data": {
      "application/vnd.jupyter.widget-view+json": {
       "model_id": "65a21a4f3a724b0e9a8d936eaecd3ee5",
       "version_major": 2,
       "version_minor": 0
      },
      "text/plain": [
       "HBox(children=(FloatProgress(value=0.0, max=225.0), HTML(value='')))"
      ]
     },
     "metadata": {},
     "output_type": "display_data"
    },
    {
     "name": "stdout",
     "output_type": "stream",
     "text": [
      "\n",
      "Validation: metrics  0.6711111111111111 loss  163.99613161301136\n",
      "Train: metrics  0.645 loss  1.7302054367661477\n",
      "\n"
     ]
    }
   ],
   "source": [
    "metric, lost = train_vid(model, loss, optimizer, scheduler, x_train, x_val, y_train, accuracy_b, device, fast_mtcnn, \n",
    "                         transforms, \n",
    "                         epochs=3, \n",
    "                         batch_size=batch_size, \n",
    "                         del_net=False, \n",
    "                         useInference=False,\n",
    "                         inference=nn.Softmax(dim=1), \n",
    "                         useScheduler=False,\n",
    "                         checkpoint=0.6,\n",
    "                         limit=limit,\n",
    "                         remove_noise=True\n",
    "                      )"
   ]
  },
  {
   "cell_type": "code",
   "execution_count": 14,
   "metadata": {},
   "outputs": [
    {
     "name": "stdout",
     "output_type": "stream",
     "text": [
      "Loss optim: 163.99613161301136 3\n",
      "Metrics optim: 0.6088888888888889 1\n"
     ]
    }
   ],
   "source": [
    "from operator import itemgetter\n",
    "min_lost = min(enumerate(lost), key=itemgetter(1))[0] \n",
    "min_metrics = min(enumerate(metric), key=itemgetter(1))[0] \n",
    "print(\"Loss optim:\", lost[min_lost], min_lost + 1)\n",
    "print(\"Metrics optim:\", metric[min_metrics], min_metrics + 1)"
   ]
  },
  {
   "cell_type": "code",
   "execution_count": 15,
   "metadata": {
    "scrolled": true
   },
   "outputs": [
    {
     "data": {
      "text/plain": [
       "Text(0.5, 1.0, 'Validation metrics')"
      ]
     },
     "execution_count": 15,
     "metadata": {},
     "output_type": "execute_result"
    },
    {
     "data": {
      "image/png": "[encoded data removed]",
      "text/plain": [
       "<Figure size 432x288 with 1 Axes>"
      ]
     },
     "metadata": {
      "needs_background": "light"
     },
     "output_type": "display_data"
    }
   ],
   "source": [
    "plt.plot(metric, label='model')\n",
    "plt.legend()\n",
    "plt.title('Validation metrics')"
   ]
  },
  {
   "cell_type": "code",
   "execution_count": 16,
   "metadata": {},
   "outputs": [
    {
     "data": {
      "text/plain": [
       "Text(0.5, 1.0, 'Validation Loss')"
      ]
     },
     "execution_count": 16,
     "metadata": {},
     "output_type": "execute_result"
    },
    {
     "data": {
      "image/png": "[encoded data removed]",
      "text/plain": [
       "<Figure size 432x288 with 1 Axes>"
      ]
     },
     "metadata": {
      "needs_background": "light"
     },
     "output_type": "display_data"
    }
   ],
   "source": [
    "plt.plot(lost, label='model')\n",
    "plt.legend()\n",
    "plt.title('Validation Loss')"
   ]
  },
  {
   "cell_type": "code",
   "execution_count": 17,
   "metadata": {},
   "outputs": [
    {
     "ename": "NameError",
     "evalue": "name 'validate_vi1d' is not defined",
     "output_type": "error",
     "traceback": [
      "\u001b[1;31m---------------------------------------------------------------------------\u001b[0m",
      "\u001b[1;31mNameError\u001b[0m                                 Traceback (most recent call last)",
      "\u001b[1;32m<ipython-input-17-18b749f6546e>\u001b[0m in \u001b[0;36m<module>\u001b[1;34m\u001b[0m\n\u001b[1;32m----> 1\u001b[1;33m validate_vi1d(model, x_val, y_train, loss, accuracy_b, device, 30, fast_mtcnn, transforms, \n\u001b[0m\u001b[0;32m      2\u001b[0m              show_results=True, inference=nn.Softmax(dim=1), delimeter=5)\n",
      "\u001b[1;31mNameError\u001b[0m: name 'validate_vi1d' is not defined"
     ]
    }
   ],
   "source": [
    "validate_vi1d(model, x_val, y_train, loss, accuracy_b, device, 30, fast_mtcnn, transforms, \n",
    "             show_results=True, inference=nn.Softmax(dim=1), delimeter=5)"
   ]
  },
  {
   "cell_type": "code",
   "execution_count": null,
   "metadata": {
    "scrolled": true
   },
   "outputs": [],
   "source": [
    "validate_vid(model, x_val, y_train, loss, log_loss, device, 30, fast_mtcnn, transforms, print_results=True, inference=nn.Softmax(dim=1), delimeter=5)"
   ]
  },
  {
   "cell_type": "code",
   "execution_count": null,
   "metadata": {
    "scrolled": true
   },
   "outputs": [],
   "source": [
    "validate_vid(model, x_val, y_train, loss, log_loss, device, 30, fast_mtcnn, transforms, show_results=True, inference=nn.Softmax(dim=1), delimeter=5)"
   ]
  },
  {
   "cell_type": "code",
   "execution_count": null,
   "metadata": {
    "scrolled": true
   },
   "outputs": [],
   "source": [
    "validate_vid(model, x_val, y_train, loss, log_loss, device, 30, fast_mtcnn, transforms, show_graphic=True, inference=nn.Softmax(dim=1), delimeter=5)"
   ]
  },
  {
   "cell_type": "code",
   "execution_count": null,
   "metadata": {},
   "outputs": [],
   "source": [
    "#torch.save(model.state_dict(), '0.657.pth')"
   ]
  }
 ],
 "metadata": {
  "kernelspec": {
   "display_name": "Python 3",
   "language": "python",
   "name": "python3"
  },
  "language_info": {
   "codemirror_mode": {
    "name": "ipython",
    "version": 3
   },
   "file_extension": ".py",
   "mimetype": "text/x-python",
   "name": "python",
   "nbconvert_exporter": "python",
   "pygments_lexer": "ipython3",
   "version": "3.6.5"
  }
 },
 "nbformat": 4,
 "nbformat_minor": 2
}
